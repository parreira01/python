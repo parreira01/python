{
 "cells": [
  {
   "cell_type": "markdown",
   "id": "cc051390",
   "metadata": {},
   "source": [
    "# Curso Python"
   ]
  },
  {
   "cell_type": "code",
   "execution_count": 1,
   "id": "0e3dd2a2",
   "metadata": {},
   "outputs": [
    {
     "name": "stdout",
     "output_type": "stream",
     "text": [
      "Curso de Introdução ao Python\n"
     ]
    }
   ],
   "source": [
    "print(\"Curso de Introdução ao Python\")"
   ]
  },
  {
   "cell_type": "markdown",
   "id": "57aeaed5",
   "metadata": {},
   "source": [
    " ### Código em texto markdown. Não interfere no código."
   ]
  },
  {
   "cell_type": "code",
   "execution_count": null,
   "id": "8623e4cb",
   "metadata": {},
   "outputs": [],
   "source": []
  }
 ],
 "metadata": {
  "kernelspec": {
   "display_name": "Python 3 (ipykernel)",
   "language": "python",
   "name": "python3"
  },
  "language_info": {
   "codemirror_mode": {
    "name": "ipython",
    "version": 3
   },
   "file_extension": ".py",
   "mimetype": "text/x-python",
   "name": "python",
   "nbconvert_exporter": "python",
   "pygments_lexer": "ipython3",
   "version": "3.11.4"
  }
 },
 "nbformat": 4,
 "nbformat_minor": 5
}
