{
  "nbformat": 4,
  "nbformat_minor": 0,
  "metadata": {
    "colab": {
      "provenance": [],
      "authorship_tag": "ABX9TyOs4nZSXjopyL6AR9C+5iFy",
      "include_colab_link": true
    },
    "kernelspec": {
      "name": "python3",
      "display_name": "Python 3"
    },
    "language_info": {
      "name": "python"
    }
  },
  "cells": [
    {
      "cell_type": "markdown",
      "metadata": {
        "id": "view-in-github",
        "colab_type": "text"
      },
      "source": [
        "<a href=\"https://colab.research.google.com/github/parreira01/python/blob/master/M%C3%B3dulo3PacotesNumPy.ipynb\" target=\"_parent\"><img src=\"https://colab.research.google.com/assets/colab-badge.svg\" alt=\"Open In Colab\"/></a>"
      ]
    },
    {
      "cell_type": "markdown",
      "source": [
        "## Vídeo 25: Outros pacotes do Python: NumPy - Matriz e Array\n"
      ],
      "metadata": {
        "id": "-EO8rl6B7KQ7"
      }
    },
    {
      "cell_type": "code",
      "execution_count": null,
      "metadata": {
        "id": "cvPu7Yu56iT5"
      },
      "outputs": [],
      "source": [
        "import numpy as np"
      ]
    },
    {
      "cell_type": "code",
      "source": [
        "# criando uma função da matriz linha\n",
        "np.array([1, 2, 3, 4, 5, 6])"
      ],
      "metadata": {
        "colab": {
          "base_uri": "https://localhost:8080/"
        },
        "id": "c-Ji8O3T8Clo",
        "outputId": "7e348c48-3156-4782-8cc3-cf2866bffcaa"
      },
      "execution_count": null,
      "outputs": [
        {
          "output_type": "execute_result",
          "data": {
            "text/plain": [
              "array([1, 2, 3, 4, 5, 6])"
            ]
          },
          "metadata": {},
          "execution_count": 2
        }
      ]
    },
    {
      "cell_type": "code",
      "source": [
        "# criando um objeto como resultado da função da matriz linha\n",
        "matriz_linha = np.array([1, 2, 3, 4, 5, 6])\n"
      ],
      "metadata": {
        "id": "fZNc6ocZ8Xnx"
      },
      "execution_count": null,
      "outputs": []
    },
    {
      "cell_type": "code",
      "source": [
        "matriz_linha # A matriz linha mostra 1 linha com 5 colunas"
      ],
      "metadata": {
        "colab": {
          "base_uri": "https://localhost:8080/"
        },
        "id": "M2kxwbX_9Qnh",
        "outputId": "0ad298ff-a493-4f7e-bed1-da7fa396ae8b"
      },
      "execution_count": null,
      "outputs": [
        {
          "output_type": "execute_result",
          "data": {
            "text/plain": [
              "array([1, 2, 3, 4, 5, 6])"
            ]
          },
          "metadata": {},
          "execution_count": 4
        }
      ]
    },
    {
      "cell_type": "code",
      "source": [
        "# Apresentando um formato de 5 linhas e 1 coluna, o reshape é responsável por essa mudança começando por linhas e seguido por colunas.\n",
        "vetor = matriz_linha.reshape(6,1)\n",
        "vetor"
      ],
      "metadata": {
        "colab": {
          "base_uri": "https://localhost:8080/"
        },
        "id": "jWaYrIgR9r-0",
        "outputId": "73931d2c-8be1-4232-fedc-db122df3b53e"
      },
      "execution_count": null,
      "outputs": [
        {
          "output_type": "execute_result",
          "data": {
            "text/plain": [
              "array([[1],\n",
              "       [2],\n",
              "       [3],\n",
              "       [4],\n",
              "       [5],\n",
              "       [6]])"
            ]
          },
          "metadata": {},
          "execution_count": 6
        }
      ]
    },
    {
      "cell_type": "code",
      "source": [
        "# Criando valores para cada linha\n",
        "matriz = np.array([[1,2,3],[4,5,6],[7,8,9],[10,11,12],[100,200,300], [20,30,40]])\n",
        "matriz"
      ],
      "metadata": {
        "colab": {
          "base_uri": "https://localhost:8080/"
        },
        "id": "pw0SpWfY-xpo",
        "outputId": "0bba3275-13da-4535-8463-d089f706f827"
      },
      "execution_count": null,
      "outputs": [
        {
          "output_type": "execute_result",
          "data": {
            "text/plain": [
              "array([[  1,   2,   3],\n",
              "       [  4,   5,   6],\n",
              "       [  7,   8,   9],\n",
              "       [ 10,  11,  12],\n",
              "       [100, 200, 300],\n",
              "       [ 20,  30,  40]])"
            ]
          },
          "metadata": {},
          "execution_count": 12
        }
      ]
    },
    {
      "cell_type": "code",
      "source": [
        "matriz[:, -1] # ':' todas as linhas e '-1' últimas colunas"
      ],
      "metadata": {
        "colab": {
          "base_uri": "https://localhost:8080/"
        },
        "id": "-ZaEfvG5BeaW",
        "outputId": "7955abb4-7b8d-4f12-d857-97cc2e8c99b7"
      },
      "execution_count": null,
      "outputs": [
        {
          "output_type": "execute_result",
          "data": {
            "text/plain": [
              "array([  3,   6,   9,  12, 300,  40])"
            ]
          },
          "metadata": {},
          "execution_count": 13
        }
      ]
    },
    {
      "cell_type": "code",
      "source": [
        "matriz[3, :] # linha 3, todas as colunas"
      ],
      "metadata": {
        "colab": {
          "base_uri": "https://localhost:8080/"
        },
        "id": "K7XUBNf2B0Oo",
        "outputId": "eeae6f2c-b53f-40e9-b2a7-372d97ae76ff"
      },
      "execution_count": null,
      "outputs": [
        {
          "output_type": "execute_result",
          "data": {
            "text/plain": [
              "array([10, 11, 12])"
            ]
          },
          "metadata": {},
          "execution_count": 14
        }
      ]
    },
    {
      "cell_type": "markdown",
      "source": [],
      "metadata": {
        "id": "FYI86sXfCeFO"
      }
    },
    {
      "cell_type": "code",
      "source": [
        "matriz[4, 1] # linha 4, posição 1 da coluna"
      ],
      "metadata": {
        "colab": {
          "base_uri": "https://localhost:8080/"
        },
        "id": "F8cQ4EdfCIt-",
        "outputId": "d6901872-d8ef-4881-faeb-62a1b61d3729"
      },
      "execution_count": null,
      "outputs": [
        {
          "output_type": "execute_result",
          "data": {
            "text/plain": [
              "200"
            ]
          },
          "metadata": {},
          "execution_count": 15
        }
      ]
    },
    {
      "cell_type": "code",
      "source": [
        "array = np.array( [ [[1,2], [5,6]], [[7,8],[88, 99]]]) # As matrizes são os colchetes de dentro que formam o array que é amontagem geral.\n",
        "array"
      ],
      "metadata": {
        "colab": {
          "base_uri": "https://localhost:8080/"
        },
        "id": "0Pg9SZxVClQ4",
        "outputId": "5c7d7527-01ad-498e-f054-69731298bc2e"
      },
      "execution_count": null,
      "outputs": [
        {
          "output_type": "execute_result",
          "data": {
            "text/plain": [
              "array([[[ 1,  2],\n",
              "        [ 5,  6]],\n",
              "\n",
              "       [[ 7,  8],\n",
              "        [88, 99]]])"
            ]
          },
          "metadata": {},
          "execution_count": 17
        }
      ]
    },
    {
      "cell_type": "code",
      "source": [
        "# O 1º colchete [0] do array, aponta a 1ª matriz '[1,2], [5,6]', como sendo a posição da linha.\n",
        "# O 2º colchete [1,0] do array, aponta a 1ª matriz '[1,2], [5,6]' como a posição da coluna, onde 1 é a 2ª linha [5,6] da coluna e 0 é a 1ª coluna da 2ª coluna[5].\n",
        "array[0][1,0]"
      ],
      "metadata": {
        "colab": {
          "base_uri": "https://localhost:8080/"
        },
        "id": "AW-zfpyODVYM",
        "outputId": "9abcac2d-792d-4292-9a55-0f93ec21fa6c"
      },
      "execution_count": null,
      "outputs": [
        {
          "output_type": "execute_result",
          "data": {
            "text/plain": [
              "5"
            ]
          },
          "metadata": {},
          "execution_count": 18
        }
      ]
    },
    {
      "cell_type": "markdown",
      "source": [
        "___\n",
        "## Vídeo 26: Outros pacotes do Python: NumPy - Matriz de zeros e Dataframe\n",
        "\n",
        "##### o NumPy é utilizado para cálculos de álgebra linear.\n",
        "\n",
        "\n",
        "\n",
        "\n",
        "\n",
        "\n"
      ],
      "metadata": {
        "id": "FdvIfcRtGCJY"
      }
    },
    {
      "cell_type": "code",
      "source": [
        "matriz_zeros = np.zeros(shape = (12,1))\n",
        "matriz_zeros"
      ],
      "metadata": {
        "colab": {
          "base_uri": "https://localhost:8080/"
        },
        "id": "kZcCABJhGIGK",
        "outputId": "6e0e6b24-e83a-4ce5-f2b0-5b61072bb42c"
      },
      "execution_count": null,
      "outputs": [
        {
          "output_type": "execute_result",
          "data": {
            "text/plain": [
              "array([[0.],\n",
              "       [0.],\n",
              "       [0.],\n",
              "       [0.],\n",
              "       [0.],\n",
              "       [0.],\n",
              "       [0.],\n",
              "       [0.],\n",
              "       [0.],\n",
              "       [0.],\n",
              "       [0.],\n",
              "       [0.]])"
            ]
          },
          "metadata": {},
          "execution_count": 21
        }
      ]
    },
    {
      "cell_type": "code",
      "source": [
        "import pandas as pd\n"
      ],
      "metadata": {
        "id": "DK3cgogyG6cv"
      },
      "execution_count": null,
      "outputs": []
    },
    {
      "cell_type": "code",
      "source": [
        "# criando um data frame de zeros\n",
        "# a vantagem de se trabalhar com esse formato de array(matriz) está na utilização de parte das informações pré definidas de um banco dados.\n",
        "df = pd.DataFrame(data = matriz_zeros, columns = ['valores'])\n",
        "df"
      ],
      "metadata": {
        "colab": {
          "base_uri": "https://localhost:8080/",
          "height": 425
        },
        "id": "ssVG5KH0HXlO",
        "outputId": "669aa226-fa3a-409e-e2ab-8818d36f1aee"
      },
      "execution_count": null,
      "outputs": [
        {
          "output_type": "execute_result",
          "data": {
            "text/plain": [
              "    valores\n",
              "0       0.0\n",
              "1       0.0\n",
              "2       0.0\n",
              "3       0.0\n",
              "4       0.0\n",
              "5       0.0\n",
              "6       0.0\n",
              "7       0.0\n",
              "8       0.0\n",
              "9       0.0\n",
              "10      0.0\n",
              "11      0.0"
            ],
            "text/html": [
              "\n",
              "  <div id=\"df-df1aee38-7e79-420d-af35-ddecca3dff37\" class=\"colab-df-container\">\n",
              "    <div>\n",
              "<style scoped>\n",
              "    .dataframe tbody tr th:only-of-type {\n",
              "        vertical-align: middle;\n",
              "    }\n",
              "\n",
              "    .dataframe tbody tr th {\n",
              "        vertical-align: top;\n",
              "    }\n",
              "\n",
              "    .dataframe thead th {\n",
              "        text-align: right;\n",
              "    }\n",
              "</style>\n",
              "<table border=\"1\" class=\"dataframe\">\n",
              "  <thead>\n",
              "    <tr style=\"text-align: right;\">\n",
              "      <th></th>\n",
              "      <th>valores</th>\n",
              "    </tr>\n",
              "  </thead>\n",
              "  <tbody>\n",
              "    <tr>\n",
              "      <th>0</th>\n",
              "      <td>0.0</td>\n",
              "    </tr>\n",
              "    <tr>\n",
              "      <th>1</th>\n",
              "      <td>0.0</td>\n",
              "    </tr>\n",
              "    <tr>\n",
              "      <th>2</th>\n",
              "      <td>0.0</td>\n",
              "    </tr>\n",
              "    <tr>\n",
              "      <th>3</th>\n",
              "      <td>0.0</td>\n",
              "    </tr>\n",
              "    <tr>\n",
              "      <th>4</th>\n",
              "      <td>0.0</td>\n",
              "    </tr>\n",
              "    <tr>\n",
              "      <th>5</th>\n",
              "      <td>0.0</td>\n",
              "    </tr>\n",
              "    <tr>\n",
              "      <th>6</th>\n",
              "      <td>0.0</td>\n",
              "    </tr>\n",
              "    <tr>\n",
              "      <th>7</th>\n",
              "      <td>0.0</td>\n",
              "    </tr>\n",
              "    <tr>\n",
              "      <th>8</th>\n",
              "      <td>0.0</td>\n",
              "    </tr>\n",
              "    <tr>\n",
              "      <th>9</th>\n",
              "      <td>0.0</td>\n",
              "    </tr>\n",
              "    <tr>\n",
              "      <th>10</th>\n",
              "      <td>0.0</td>\n",
              "    </tr>\n",
              "    <tr>\n",
              "      <th>11</th>\n",
              "      <td>0.0</td>\n",
              "    </tr>\n",
              "  </tbody>\n",
              "</table>\n",
              "</div>\n",
              "    <div class=\"colab-df-buttons\">\n",
              "\n",
              "  <div class=\"colab-df-container\">\n",
              "    <button class=\"colab-df-convert\" onclick=\"convertToInteractive('df-df1aee38-7e79-420d-af35-ddecca3dff37')\"\n",
              "            title=\"Convert this dataframe to an interactive table.\"\n",
              "            style=\"display:none;\">\n",
              "\n",
              "  <svg xmlns=\"http://www.w3.org/2000/svg\" height=\"24px\" viewBox=\"0 -960 960 960\">\n",
              "    <path d=\"M120-120v-720h720v720H120Zm60-500h600v-160H180v160Zm220 220h160v-160H400v160Zm0 220h160v-160H400v160ZM180-400h160v-160H180v160Zm440 0h160v-160H620v160ZM180-180h160v-160H180v160Zm440 0h160v-160H620v160Z\"/>\n",
              "  </svg>\n",
              "    </button>\n",
              "\n",
              "  <style>\n",
              "    .colab-df-container {\n",
              "      display:flex;\n",
              "      gap: 12px;\n",
              "    }\n",
              "\n",
              "    .colab-df-convert {\n",
              "      background-color: #E8F0FE;\n",
              "      border: none;\n",
              "      border-radius: 50%;\n",
              "      cursor: pointer;\n",
              "      display: none;\n",
              "      fill: #1967D2;\n",
              "      height: 32px;\n",
              "      padding: 0 0 0 0;\n",
              "      width: 32px;\n",
              "    }\n",
              "\n",
              "    .colab-df-convert:hover {\n",
              "      background-color: #E2EBFA;\n",
              "      box-shadow: 0px 1px 2px rgba(60, 64, 67, 0.3), 0px 1px 3px 1px rgba(60, 64, 67, 0.15);\n",
              "      fill: #174EA6;\n",
              "    }\n",
              "\n",
              "    .colab-df-buttons div {\n",
              "      margin-bottom: 4px;\n",
              "    }\n",
              "\n",
              "    [theme=dark] .colab-df-convert {\n",
              "      background-color: #3B4455;\n",
              "      fill: #D2E3FC;\n",
              "    }\n",
              "\n",
              "    [theme=dark] .colab-df-convert:hover {\n",
              "      background-color: #434B5C;\n",
              "      box-shadow: 0px 1px 3px 1px rgba(0, 0, 0, 0.15);\n",
              "      filter: drop-shadow(0px 1px 2px rgba(0, 0, 0, 0.3));\n",
              "      fill: #FFFFFF;\n",
              "    }\n",
              "  </style>\n",
              "\n",
              "    <script>\n",
              "      const buttonEl =\n",
              "        document.querySelector('#df-df1aee38-7e79-420d-af35-ddecca3dff37 button.colab-df-convert');\n",
              "      buttonEl.style.display =\n",
              "        google.colab.kernel.accessAllowed ? 'block' : 'none';\n",
              "\n",
              "      async function convertToInteractive(key) {\n",
              "        const element = document.querySelector('#df-df1aee38-7e79-420d-af35-ddecca3dff37');\n",
              "        const dataTable =\n",
              "          await google.colab.kernel.invokeFunction('convertToInteractive',\n",
              "                                                    [key], {});\n",
              "        if (!dataTable) return;\n",
              "\n",
              "        const docLinkHtml = 'Like what you see? Visit the ' +\n",
              "          '<a target=\"_blank\" href=https://colab.research.google.com/notebooks/data_table.ipynb>data table notebook</a>'\n",
              "          + ' to learn more about interactive tables.';\n",
              "        element.innerHTML = '';\n",
              "        dataTable['output_type'] = 'display_data';\n",
              "        await google.colab.output.renderOutput(dataTable, element);\n",
              "        const docLink = document.createElement('div');\n",
              "        docLink.innerHTML = docLinkHtml;\n",
              "        element.appendChild(docLink);\n",
              "      }\n",
              "    </script>\n",
              "  </div>\n",
              "\n",
              "\n",
              "<div id=\"df-2abbf8b5-897b-4f2e-af94-83e4cdf83b76\">\n",
              "  <button class=\"colab-df-quickchart\" onclick=\"quickchart('df-2abbf8b5-897b-4f2e-af94-83e4cdf83b76')\"\n",
              "            title=\"Suggest charts.\"\n",
              "            style=\"display:none;\">\n",
              "\n",
              "<svg xmlns=\"http://www.w3.org/2000/svg\" height=\"24px\"viewBox=\"0 0 24 24\"\n",
              "     width=\"24px\">\n",
              "    <g>\n",
              "        <path d=\"M19 3H5c-1.1 0-2 .9-2 2v14c0 1.1.9 2 2 2h14c1.1 0 2-.9 2-2V5c0-1.1-.9-2-2-2zM9 17H7v-7h2v7zm4 0h-2V7h2v10zm4 0h-2v-4h2v4z\"/>\n",
              "    </g>\n",
              "</svg>\n",
              "  </button>\n",
              "\n",
              "<style>\n",
              "  .colab-df-quickchart {\n",
              "      --bg-color: #E8F0FE;\n",
              "      --fill-color: #1967D2;\n",
              "      --hover-bg-color: #E2EBFA;\n",
              "      --hover-fill-color: #174EA6;\n",
              "      --disabled-fill-color: #AAA;\n",
              "      --disabled-bg-color: #DDD;\n",
              "  }\n",
              "\n",
              "  [theme=dark] .colab-df-quickchart {\n",
              "      --bg-color: #3B4455;\n",
              "      --fill-color: #D2E3FC;\n",
              "      --hover-bg-color: #434B5C;\n",
              "      --hover-fill-color: #FFFFFF;\n",
              "      --disabled-bg-color: #3B4455;\n",
              "      --disabled-fill-color: #666;\n",
              "  }\n",
              "\n",
              "  .colab-df-quickchart {\n",
              "    background-color: var(--bg-color);\n",
              "    border: none;\n",
              "    border-radius: 50%;\n",
              "    cursor: pointer;\n",
              "    display: none;\n",
              "    fill: var(--fill-color);\n",
              "    height: 32px;\n",
              "    padding: 0;\n",
              "    width: 32px;\n",
              "  }\n",
              "\n",
              "  .colab-df-quickchart:hover {\n",
              "    background-color: var(--hover-bg-color);\n",
              "    box-shadow: 0 1px 2px rgba(60, 64, 67, 0.3), 0 1px 3px 1px rgba(60, 64, 67, 0.15);\n",
              "    fill: var(--button-hover-fill-color);\n",
              "  }\n",
              "\n",
              "  .colab-df-quickchart-complete:disabled,\n",
              "  .colab-df-quickchart-complete:disabled:hover {\n",
              "    background-color: var(--disabled-bg-color);\n",
              "    fill: var(--disabled-fill-color);\n",
              "    box-shadow: none;\n",
              "  }\n",
              "\n",
              "  .colab-df-spinner {\n",
              "    border: 2px solid var(--fill-color);\n",
              "    border-color: transparent;\n",
              "    border-bottom-color: var(--fill-color);\n",
              "    animation:\n",
              "      spin 1s steps(1) infinite;\n",
              "  }\n",
              "\n",
              "  @keyframes spin {\n",
              "    0% {\n",
              "      border-color: transparent;\n",
              "      border-bottom-color: var(--fill-color);\n",
              "      border-left-color: var(--fill-color);\n",
              "    }\n",
              "    20% {\n",
              "      border-color: transparent;\n",
              "      border-left-color: var(--fill-color);\n",
              "      border-top-color: var(--fill-color);\n",
              "    }\n",
              "    30% {\n",
              "      border-color: transparent;\n",
              "      border-left-color: var(--fill-color);\n",
              "      border-top-color: var(--fill-color);\n",
              "      border-right-color: var(--fill-color);\n",
              "    }\n",
              "    40% {\n",
              "      border-color: transparent;\n",
              "      border-right-color: var(--fill-color);\n",
              "      border-top-color: var(--fill-color);\n",
              "    }\n",
              "    60% {\n",
              "      border-color: transparent;\n",
              "      border-right-color: var(--fill-color);\n",
              "    }\n",
              "    80% {\n",
              "      border-color: transparent;\n",
              "      border-right-color: var(--fill-color);\n",
              "      border-bottom-color: var(--fill-color);\n",
              "    }\n",
              "    90% {\n",
              "      border-color: transparent;\n",
              "      border-bottom-color: var(--fill-color);\n",
              "    }\n",
              "  }\n",
              "</style>\n",
              "\n",
              "  <script>\n",
              "    async function quickchart(key) {\n",
              "      const quickchartButtonEl =\n",
              "        document.querySelector('#' + key + ' button');\n",
              "      quickchartButtonEl.disabled = true;  // To prevent multiple clicks.\n",
              "      quickchartButtonEl.classList.add('colab-df-spinner');\n",
              "      try {\n",
              "        const charts = await google.colab.kernel.invokeFunction(\n",
              "            'suggestCharts', [key], {});\n",
              "      } catch (error) {\n",
              "        console.error('Error during call to suggestCharts:', error);\n",
              "      }\n",
              "      quickchartButtonEl.classList.remove('colab-df-spinner');\n",
              "      quickchartButtonEl.classList.add('colab-df-quickchart-complete');\n",
              "    }\n",
              "    (() => {\n",
              "      let quickchartButtonEl =\n",
              "        document.querySelector('#df-2abbf8b5-897b-4f2e-af94-83e4cdf83b76 button');\n",
              "      quickchartButtonEl.style.display =\n",
              "        google.colab.kernel.accessAllowed ? 'block' : 'none';\n",
              "    })();\n",
              "  </script>\n",
              "</div>\n",
              "    </div>\n",
              "  </div>\n"
            ]
          },
          "metadata": {},
          "execution_count": 26
        }
      ]
    },
    {
      "cell_type": "code",
      "source": [
        "# criando um matriz identidade para realização de outros cálculos\n",
        "matriz_identidade = np.eye(2)\n",
        "matriz_identidade"
      ],
      "metadata": {
        "colab": {
          "base_uri": "https://localhost:8080/"
        },
        "id": "z11RLXGfJqb5",
        "outputId": "ada905b6-5658-489c-ef4b-96dc7c4f1b49"
      },
      "execution_count": null,
      "outputs": [
        {
          "output_type": "execute_result",
          "data": {
            "text/plain": [
              "array([[1., 0.],\n",
              "       [0., 1.]])"
            ]
          },
          "metadata": {},
          "execution_count": 27
        }
      ]
    },
    {
      "cell_type": "markdown",
      "source": [
        "___\n",
        "## Vídeo 27: Outros pacotes do Python: NumPy - Valores aleatórios\n"
      ],
      "metadata": {
        "id": "E_bo0H2UK9ru"
      }
    },
    {
      "cell_type": "code",
      "source": [
        "# criando matrizes, vetores ou matrizes-linhas com valores aleatórios\n",
        "# todas as vezes que aplicar o objeto abaixo será gerado um novo valor aleatório\n",
        "np.random.rand(2,2)"
      ],
      "metadata": {
        "colab": {
          "base_uri": "https://localhost:8080/"
        },
        "id": "oB43GmGIK9V9",
        "outputId": "5e6cafef-e858-4969-faf2-5f8fb2119c9f"
      },
      "execution_count": null,
      "outputs": [
        {
          "output_type": "execute_result",
          "data": {
            "text/plain": [
              "array([[0.6654968 , 0.84614963],\n",
              "       [0.99315403, 0.85635919]])"
            ]
          },
          "metadata": {},
          "execution_count": 28
        }
      ]
    },
    {
      "cell_type": "code",
      "source": [
        "# adquirindo um mesmo valor aleatório para ser replicado\n",
        "np.random.seed(0) # 0 para não haver alteração do valor aleatório\n",
        "np.random.rand(2,2)"
      ],
      "metadata": {
        "colab": {
          "base_uri": "https://localhost:8080/"
        },
        "id": "Lj75-VuDMayN",
        "outputId": "875b8b8c-81f9-44bd-a504-2ea83de4d53f"
      },
      "execution_count": null,
      "outputs": [
        {
          "output_type": "execute_result",
          "data": {
            "text/plain": [
              "array([[0.5488135 , 0.71518937],\n",
              "       [0.60276338, 0.54488318]])"
            ]
          },
          "metadata": {},
          "execution_count": 31
        }
      ]
    },
    {
      "cell_type": "code",
      "source": [
        "# para testes com valores aleatórios\n",
        "dist_normal = np.random.normal (loc= 1, scale= 2, size= (6, 3))"
      ],
      "metadata": {
        "id": "WXx0FsTtN6TO"
      },
      "execution_count": null,
      "outputs": []
    },
    {
      "cell_type": "code",
      "source": [
        "dist_normal"
      ],
      "metadata": {
        "colab": {
          "base_uri": "https://localhost:8080/"
        },
        "id": "U2FvNUpeOwkH",
        "outputId": "1f342ad3-8bee-4778-dd9c-03eef41f4fc0"
      },
      "execution_count": null,
      "outputs": [
        {
          "output_type": "execute_result",
          "data": {
            "text/plain": [
              "array([[ 1.28808714,  3.90854701,  2.52207545],\n",
              "       [ 1.24335003,  1.88772647,  1.66734865],\n",
              "       [ 3.98815815,  0.58968347,  1.6261354 ],\n",
              "       [-0.70819148, -4.10597963,  2.30723719],\n",
              "       [ 2.7288724 , -0.48433004,  5.53950925],\n",
              "       [-1.90873135,  1.09151703,  0.6256323 ]])"
            ]
          },
          "metadata": {},
          "execution_count": 38
        }
      ]
    },
    {
      "cell_type": "markdown",
      "source": [
        "___\n",
        "## Vídeo 28: Outros pacotes do Python: NumPy - Operações Matemáticas\n"
      ],
      "metadata": {
        "id": "GKBRMuC9PUwt"
      }
    },
    {
      "cell_type": "code",
      "source": [
        "matriz_1 = np.array([[1,2],[3,4]])\n",
        "matriz_2 = np.array([[5,6],[7,8]])"
      ],
      "metadata": {
        "id": "2m2XaGFqPaRq"
      },
      "execution_count": null,
      "outputs": []
    },
    {
      "cell_type": "code",
      "source": [
        "matriz_1"
      ],
      "metadata": {
        "colab": {
          "base_uri": "https://localhost:8080/"
        },
        "id": "B14KRzl2QD1T",
        "outputId": "59e0e660-b834-4ee6-8e60-77eea4a3b4da"
      },
      "execution_count": null,
      "outputs": [
        {
          "output_type": "execute_result",
          "data": {
            "text/plain": [
              "array([[1, 2],\n",
              "       [3, 4]])"
            ]
          },
          "metadata": {},
          "execution_count": 40
        }
      ]
    },
    {
      "cell_type": "code",
      "source": [
        "matriz_2"
      ],
      "metadata": {
        "colab": {
          "base_uri": "https://localhost:8080/"
        },
        "id": "xoI-1_4iQPCN",
        "outputId": "6a82d678-1464-4737-ea55-8dc2de8353c5"
      },
      "execution_count": null,
      "outputs": [
        {
          "output_type": "execute_result",
          "data": {
            "text/plain": [
              "array([[5, 6],\n",
              "       [7, 8]])"
            ]
          },
          "metadata": {},
          "execution_count": 41
        }
      ]
    },
    {
      "cell_type": "code",
      "source": [
        "np.add(matriz_1, matriz_2)"
      ],
      "metadata": {
        "colab": {
          "base_uri": "https://localhost:8080/"
        },
        "id": "wJ4TsLgxQVUr",
        "outputId": "95819ce0-77b4-4b14-9fef-38979b763832"
      },
      "execution_count": null,
      "outputs": [
        {
          "output_type": "execute_result",
          "data": {
            "text/plain": [
              "array([[ 6,  8],\n",
              "       [10, 12]])"
            ]
          },
          "metadata": {},
          "execution_count": 42
        }
      ]
    },
    {
      "cell_type": "code",
      "source": [
        "np.subtract(matriz_1, matriz_2)"
      ],
      "metadata": {
        "colab": {
          "base_uri": "https://localhost:8080/"
        },
        "id": "XEp-r4KBQjK8",
        "outputId": "9c96d601-003f-4bfc-8dd7-fc02a7df544f"
      },
      "execution_count": null,
      "outputs": [
        {
          "output_type": "execute_result",
          "data": {
            "text/plain": [
              "array([[-4, -4],\n",
              "       [-4, -4]])"
            ]
          },
          "metadata": {},
          "execution_count": 43
        }
      ]
    },
    {
      "cell_type": "code",
      "source": [
        "np.divide(matriz_1, matriz_2)"
      ],
      "metadata": {
        "colab": {
          "base_uri": "https://localhost:8080/"
        },
        "id": "PoVdCQk2Qw89",
        "outputId": "63ff7ea6-b66d-4762-a1d6-2239fde62d71"
      },
      "execution_count": null,
      "outputs": [
        {
          "output_type": "execute_result",
          "data": {
            "text/plain": [
              "array([[0.2       , 0.33333333],\n",
              "       [0.42857143, 0.5       ]])"
            ]
          },
          "metadata": {},
          "execution_count": 44
        }
      ]
    },
    {
      "cell_type": "code",
      "source": [
        "np.multiply(matriz_1, matriz_2) # faz multiplicação dos itens de cada matriz"
      ],
      "metadata": {
        "colab": {
          "base_uri": "https://localhost:8080/"
        },
        "id": "3LtElfkOQ_X2",
        "outputId": "daa92f63-1fc3-46a8-8bed-0aae4d7ee3e8"
      },
      "execution_count": null,
      "outputs": [
        {
          "output_type": "execute_result",
          "data": {
            "text/plain": [
              "array([[ 5, 12],\n",
              "       [21, 32]])"
            ]
          },
          "metadata": {},
          "execution_count": 45
        }
      ]
    },
    {
      "cell_type": "code",
      "source": [
        "np.dot(matriz_1, matriz_2) # faz multiplicação de matrizes"
      ],
      "metadata": {
        "colab": {
          "base_uri": "https://localhost:8080/"
        },
        "id": "M3357ZxkRNBr",
        "outputId": "e576c6c7-f731-405c-bb03-98a1665a1d5f"
      },
      "execution_count": null,
      "outputs": [
        {
          "output_type": "execute_result",
          "data": {
            "text/plain": [
              "array([[19, 22],\n",
              "       [43, 50]])"
            ]
          },
          "metadata": {},
          "execution_count": 46
        }
      ]
    },
    {
      "cell_type": "code",
      "source": [
        "# somando os valores de uma matriz\n",
        "np.sum(matriz_1)"
      ],
      "metadata": {
        "colab": {
          "base_uri": "https://localhost:8080/"
        },
        "id": "o_V8oblYWgi0",
        "outputId": "74786e09-eed8-4c76-ee38-f1211e920e1e"
      },
      "execution_count": null,
      "outputs": [
        {
          "output_type": "execute_result",
          "data": {
            "text/plain": [
              "10"
            ]
          },
          "metadata": {},
          "execution_count": 47
        }
      ]
    },
    {
      "cell_type": "code",
      "source": [
        "np.sum(matriz_1, axis=0) # soma os valores das colunas"
      ],
      "metadata": {
        "colab": {
          "base_uri": "https://localhost:8080/"
        },
        "id": "YQs7TLFPXCLL",
        "outputId": "d94e1c3e-107b-4ade-d716-060951b86ad0"
      },
      "execution_count": null,
      "outputs": [
        {
          "output_type": "execute_result",
          "data": {
            "text/plain": [
              "array([4, 6])"
            ]
          },
          "metadata": {},
          "execution_count": 48
        }
      ]
    },
    {
      "cell_type": "code",
      "source": [
        "np.sum(matriz_1, axis=1) # soma os valores da linhas"
      ],
      "metadata": {
        "colab": {
          "base_uri": "https://localhost:8080/"
        },
        "id": "tV2iMrzHXWdG",
        "outputId": "c8d9f155-5c97-410c-96d7-6a590ae9ddfc"
      },
      "execution_count": null,
      "outputs": [
        {
          "output_type": "execute_result",
          "data": {
            "text/plain": [
              "array([3, 7])"
            ]
          },
          "metadata": {},
          "execution_count": 49
        }
      ]
    },
    {
      "cell_type": "markdown",
      "source": [
        "___\n",
        "## Vídeo 29: Outros pacotes do Python: NumPy - Algebra Linear\n",
        "#### Transposta, Inversa e Solução de Equação\n",
        "___\n",
        "\n"
      ],
      "metadata": {
        "id": "PLFh6QwNXopC"
      }
    },
    {
      "cell_type": "code",
      "source": [
        "matriz_1"
      ],
      "metadata": {
        "colab": {
          "base_uri": "https://localhost:8080/"
        },
        "id": "0nDoBee4XWVS",
        "outputId": "1e6d5850-38fc-4776-fb7b-1f8ebc0c8cb4"
      },
      "execution_count": null,
      "outputs": [
        {
          "output_type": "execute_result",
          "data": {
            "text/plain": [
              "array([[1, 2],\n",
              "       [3, 4]])"
            ]
          },
          "metadata": {},
          "execution_count": 50
        }
      ]
    },
    {
      "cell_type": "code",
      "source": [
        "matriz_1.T # Transposta: a 1ª linha vira 1ª coluna e a 2ª linha vira 2ª coluna"
      ],
      "metadata": {
        "colab": {
          "base_uri": "https://localhost:8080/"
        },
        "id": "J2NOG7PwX4da",
        "outputId": "f3fad187-2316-4dfc-c72f-977f73529b21"
      },
      "execution_count": null,
      "outputs": [
        {
          "output_type": "execute_result",
          "data": {
            "text/plain": [
              "array([[1, 3],\n",
              "       [2, 4]])"
            ]
          },
          "metadata": {},
          "execution_count": 51
        }
      ]
    },
    {
      "cell_type": "code",
      "source": [
        "np.linalg.inv(matriz_1)"
      ],
      "metadata": {
        "colab": {
          "base_uri": "https://localhost:8080/"
        },
        "id": "XQPmjTDTYIDC",
        "outputId": "b869deb1-7b19-4f87-9bc3-952cae091470"
      },
      "execution_count": null,
      "outputs": [
        {
          "output_type": "execute_result",
          "data": {
            "text/plain": [
              "array([[-2. ,  1. ],\n",
              "       [ 1.5, -0.5]])"
            ]
          },
          "metadata": {},
          "execution_count": 52
        }
      ]
    },
    {
      "cell_type": "markdown",
      "source": [
        "$3x_{0} + x_{1} = 9$\\\n",
        "$x_{0} + 2x_{1} = 8$\n",
        "###### escrito em LaTex"
      ],
      "metadata": {
        "id": "R0tt491sB229"
      }
    },
    {
      "cell_type": "code",
      "source": [
        "equacoes = np.array([[3,1],[1,2]])"
      ],
      "metadata": {
        "id": "eKx1RdO3Bqq-"
      },
      "execution_count": null,
      "outputs": []
    },
    {
      "cell_type": "code",
      "source": [
        "equacoes"
      ],
      "metadata": {
        "colab": {
          "base_uri": "https://localhost:8080/"
        },
        "id": "dCpUHu51GyM8",
        "outputId": "abf7f33b-ba8b-4861-e59e-3df2ab9f2d73"
      },
      "execution_count": null,
      "outputs": [
        {
          "output_type": "execute_result",
          "data": {
            "text/plain": [
              "array([[3, 1],\n",
              "       [1, 2]])"
            ]
          },
          "metadata": {},
          "execution_count": 5
        }
      ]
    },
    {
      "cell_type": "code",
      "source": [
        "igualdade = np.array([[9],[8]])\n",
        "igualdade"
      ],
      "metadata": {
        "colab": {
          "base_uri": "https://localhost:8080/"
        },
        "id": "rQjimn9jG1a-",
        "outputId": "891772d5-b9f7-4a73-dcce-d2c81b59b530"
      },
      "execution_count": null,
      "outputs": [
        {
          "output_type": "execute_result",
          "data": {
            "text/plain": [
              "array([[9],\n",
              "       [8]])"
            ]
          },
          "metadata": {},
          "execution_count": 6
        }
      ]
    },
    {
      "cell_type": "code",
      "source": [
        "solucao = np.linalg.solve(equacoes, igualdade)\n",
        "solucao"
      ],
      "metadata": {
        "colab": {
          "base_uri": "https://localhost:8080/"
        },
        "id": "MNA6NShHHCLT",
        "outputId": "f7f64b6c-6f99-4ba2-97b1-c4713b09f4b0"
      },
      "execution_count": null,
      "outputs": [
        {
          "output_type": "execute_result",
          "data": {
            "text/plain": [
              "array([[2.],\n",
              "       [3.]])"
            ]
          },
          "metadata": {},
          "execution_count": 8
        }
      ]
    },
    {
      "cell_type": "code",
      "source": [
        "np.dot(equacoes, solucao)"
      ],
      "metadata": {
        "colab": {
          "base_uri": "https://localhost:8080/"
        },
        "id": "y2V_BYutHiW8",
        "outputId": "e2246cf4-f802-4e08-b878-3b2bcf7fd9b2"
      },
      "execution_count": null,
      "outputs": [
        {
          "output_type": "execute_result",
          "data": {
            "text/plain": [
              "array([[9.],\n",
              "       [8.]])"
            ]
          },
          "metadata": {},
          "execution_count": 9
        }
      ]
    },
    {
      "cell_type": "markdown",
      "source": [
        "___\n",
        "## Vídeo 30, 31 e 32: Outros pacotes do Python: Sidrapy - Introdução SIDRA - Função Get_table\n"
      ],
      "metadata": {
        "id": "5-n6OsDaIStd"
      }
    },
    {
      "cell_type": "markdown",
      "source": [
        "##### É um pacote de recuperação de dados do Banco de Dados do IBGE\n",
        "##### Instalando o SIDRAPY"
      ],
      "metadata": {
        "id": "R--YiJFcKArj"
      }
    },
    {
      "cell_type": "code",
      "source": [
        "pip install sidrapy\n"
      ],
      "metadata": {
        "colab": {
          "base_uri": "https://localhost:8080/"
        },
        "id": "lPOop3L3IWjK",
        "outputId": "17b9415d-473f-43d5-8b5f-e9b346d81488"
      },
      "execution_count": null,
      "outputs": [
        {
          "output_type": "stream",
          "name": "stdout",
          "text": [
            "Requirement already satisfied: sidrapy in /usr/local/lib/python3.10/dist-packages (0.1.4)\n",
            "Requirement already satisfied: requests in /usr/local/lib/python3.10/dist-packages (from sidrapy) (2.31.0)\n",
            "Requirement already satisfied: pandas in /usr/local/lib/python3.10/dist-packages (from sidrapy) (1.5.3)\n",
            "Requirement already satisfied: python-dateutil>=2.8.1 in /usr/local/lib/python3.10/dist-packages (from pandas->sidrapy) (2.8.2)\n",
            "Requirement already satisfied: pytz>=2020.1 in /usr/local/lib/python3.10/dist-packages (from pandas->sidrapy) (2023.3.post1)\n",
            "Requirement already satisfied: numpy>=1.21.0 in /usr/local/lib/python3.10/dist-packages (from pandas->sidrapy) (1.23.5)\n",
            "Requirement already satisfied: charset-normalizer<4,>=2 in /usr/local/lib/python3.10/dist-packages (from requests->sidrapy) (3.2.0)\n",
            "Requirement already satisfied: idna<4,>=2.5 in /usr/local/lib/python3.10/dist-packages (from requests->sidrapy) (3.4)\n",
            "Requirement already satisfied: urllib3<3,>=1.21.1 in /usr/local/lib/python3.10/dist-packages (from requests->sidrapy) (2.0.4)\n",
            "Requirement already satisfied: certifi>=2017.4.17 in /usr/local/lib/python3.10/dist-packages (from requests->sidrapy) (2023.7.22)\n",
            "Requirement already satisfied: six>=1.5 in /usr/local/lib/python3.10/dist-packages (from python-dateutil>=2.8.1->pandas->sidrapy) (1.16.0)\n"
          ]
        }
      ]
    },
    {
      "cell_type": "code",
      "source": [
        "import sidrapy as sdpy"
      ],
      "metadata": {
        "id": "cWb9WXKZKPfL"
      },
      "execution_count": null,
      "outputs": []
    },
    {
      "cell_type": "code",
      "source": [
        "sdpy.get_table(table_code= '7061',territorial_level= '1', ibge_territorial_code= '1',\n",
        "               variable= '306', classification= '315/7169')"
      ],
      "metadata": {
        "colab": {
          "base_uri": "https://localhost:8080/",
          "height": 199
        },
        "id": "7ZmY6xj4MjBi",
        "outputId": "75c303f9-45a3-4e82-e49b-3d19cc2407ca"
      },
      "execution_count": null,
      "outputs": [
        {
          "output_type": "execute_result",
          "data": {
            "text/plain": [
              "                           NC                 NN                          MC  \\\n",
              "0  Nível Territorial (Código)  Nível Territorial  Unidade de Medida (Código)   \n",
              "1                           1             Brasil                           2   \n",
              "\n",
              "                  MN      V              D1C     D1N                D2C  \\\n",
              "0  Unidade de Medida  Valor  Brasil (Código)  Brasil  Variável (Código)   \n",
              "1                  %   0.30                1  Brasil                306   \n",
              "\n",
              "                                      D2N  \\\n",
              "0                                Variável   \n",
              "1  IPCA dessazonalizado - Variação mensal   \n",
              "\n",
              "                                               D3C  \\\n",
              "0  Geral, grupo, subgrupo, item e subitem (Código)   \n",
              "1                                             7169   \n",
              "\n",
              "                                      D3N           D4C          D4N  \n",
              "0  Geral, grupo, subgrupo, item e subitem  Mês (Código)          Mês  \n",
              "1                            Índice geral        202308  agosto 2023  "
            ],
            "text/html": [
              "\n",
              "  <div id=\"df-65aa3579-67fb-45ed-a97c-ddf322801873\" class=\"colab-df-container\">\n",
              "    <div>\n",
              "<style scoped>\n",
              "    .dataframe tbody tr th:only-of-type {\n",
              "        vertical-align: middle;\n",
              "    }\n",
              "\n",
              "    .dataframe tbody tr th {\n",
              "        vertical-align: top;\n",
              "    }\n",
              "\n",
              "    .dataframe thead th {\n",
              "        text-align: right;\n",
              "    }\n",
              "</style>\n",
              "<table border=\"1\" class=\"dataframe\">\n",
              "  <thead>\n",
              "    <tr style=\"text-align: right;\">\n",
              "      <th></th>\n",
              "      <th>NC</th>\n",
              "      <th>NN</th>\n",
              "      <th>MC</th>\n",
              "      <th>MN</th>\n",
              "      <th>V</th>\n",
              "      <th>D1C</th>\n",
              "      <th>D1N</th>\n",
              "      <th>D2C</th>\n",
              "      <th>D2N</th>\n",
              "      <th>D3C</th>\n",
              "      <th>D3N</th>\n",
              "      <th>D4C</th>\n",
              "      <th>D4N</th>\n",
              "    </tr>\n",
              "  </thead>\n",
              "  <tbody>\n",
              "    <tr>\n",
              "      <th>0</th>\n",
              "      <td>Nível Territorial (Código)</td>\n",
              "      <td>Nível Territorial</td>\n",
              "      <td>Unidade de Medida (Código)</td>\n",
              "      <td>Unidade de Medida</td>\n",
              "      <td>Valor</td>\n",
              "      <td>Brasil (Código)</td>\n",
              "      <td>Brasil</td>\n",
              "      <td>Variável (Código)</td>\n",
              "      <td>Variável</td>\n",
              "      <td>Geral, grupo, subgrupo, item e subitem (Código)</td>\n",
              "      <td>Geral, grupo, subgrupo, item e subitem</td>\n",
              "      <td>Mês (Código)</td>\n",
              "      <td>Mês</td>\n",
              "    </tr>\n",
              "    <tr>\n",
              "      <th>1</th>\n",
              "      <td>1</td>\n",
              "      <td>Brasil</td>\n",
              "      <td>2</td>\n",
              "      <td>%</td>\n",
              "      <td>0.30</td>\n",
              "      <td>1</td>\n",
              "      <td>Brasil</td>\n",
              "      <td>306</td>\n",
              "      <td>IPCA dessazonalizado - Variação mensal</td>\n",
              "      <td>7169</td>\n",
              "      <td>Índice geral</td>\n",
              "      <td>202308</td>\n",
              "      <td>agosto 2023</td>\n",
              "    </tr>\n",
              "  </tbody>\n",
              "</table>\n",
              "</div>\n",
              "    <div class=\"colab-df-buttons\">\n",
              "\n",
              "  <div class=\"colab-df-container\">\n",
              "    <button class=\"colab-df-convert\" onclick=\"convertToInteractive('df-65aa3579-67fb-45ed-a97c-ddf322801873')\"\n",
              "            title=\"Convert this dataframe to an interactive table.\"\n",
              "            style=\"display:none;\">\n",
              "\n",
              "  <svg xmlns=\"http://www.w3.org/2000/svg\" height=\"24px\" viewBox=\"0 -960 960 960\">\n",
              "    <path d=\"M120-120v-720h720v720H120Zm60-500h600v-160H180v160Zm220 220h160v-160H400v160Zm0 220h160v-160H400v160ZM180-400h160v-160H180v160Zm440 0h160v-160H620v160ZM180-180h160v-160H180v160Zm440 0h160v-160H620v160Z\"/>\n",
              "  </svg>\n",
              "    </button>\n",
              "\n",
              "  <style>\n",
              "    .colab-df-container {\n",
              "      display:flex;\n",
              "      gap: 12px;\n",
              "    }\n",
              "\n",
              "    .colab-df-convert {\n",
              "      background-color: #E8F0FE;\n",
              "      border: none;\n",
              "      border-radius: 50%;\n",
              "      cursor: pointer;\n",
              "      display: none;\n",
              "      fill: #1967D2;\n",
              "      height: 32px;\n",
              "      padding: 0 0 0 0;\n",
              "      width: 32px;\n",
              "    }\n",
              "\n",
              "    .colab-df-convert:hover {\n",
              "      background-color: #E2EBFA;\n",
              "      box-shadow: 0px 1px 2px rgba(60, 64, 67, 0.3), 0px 1px 3px 1px rgba(60, 64, 67, 0.15);\n",
              "      fill: #174EA6;\n",
              "    }\n",
              "\n",
              "    .colab-df-buttons div {\n",
              "      margin-bottom: 4px;\n",
              "    }\n",
              "\n",
              "    [theme=dark] .colab-df-convert {\n",
              "      background-color: #3B4455;\n",
              "      fill: #D2E3FC;\n",
              "    }\n",
              "\n",
              "    [theme=dark] .colab-df-convert:hover {\n",
              "      background-color: #434B5C;\n",
              "      box-shadow: 0px 1px 3px 1px rgba(0, 0, 0, 0.15);\n",
              "      filter: drop-shadow(0px 1px 2px rgba(0, 0, 0, 0.3));\n",
              "      fill: #FFFFFF;\n",
              "    }\n",
              "  </style>\n",
              "\n",
              "    <script>\n",
              "      const buttonEl =\n",
              "        document.querySelector('#df-65aa3579-67fb-45ed-a97c-ddf322801873 button.colab-df-convert');\n",
              "      buttonEl.style.display =\n",
              "        google.colab.kernel.accessAllowed ? 'block' : 'none';\n",
              "\n",
              "      async function convertToInteractive(key) {\n",
              "        const element = document.querySelector('#df-65aa3579-67fb-45ed-a97c-ddf322801873');\n",
              "        const dataTable =\n",
              "          await google.colab.kernel.invokeFunction('convertToInteractive',\n",
              "                                                    [key], {});\n",
              "        if (!dataTable) return;\n",
              "\n",
              "        const docLinkHtml = 'Like what you see? Visit the ' +\n",
              "          '<a target=\"_blank\" href=https://colab.research.google.com/notebooks/data_table.ipynb>data table notebook</a>'\n",
              "          + ' to learn more about interactive tables.';\n",
              "        element.innerHTML = '';\n",
              "        dataTable['output_type'] = 'display_data';\n",
              "        await google.colab.output.renderOutput(dataTable, element);\n",
              "        const docLink = document.createElement('div');\n",
              "        docLink.innerHTML = docLinkHtml;\n",
              "        element.appendChild(docLink);\n",
              "      }\n",
              "    </script>\n",
              "  </div>\n",
              "\n",
              "\n",
              "<div id=\"df-61edd246-c6dc-43b9-876a-bd2555d714ec\">\n",
              "  <button class=\"colab-df-quickchart\" onclick=\"quickchart('df-61edd246-c6dc-43b9-876a-bd2555d714ec')\"\n",
              "            title=\"Suggest charts.\"\n",
              "            style=\"display:none;\">\n",
              "\n",
              "<svg xmlns=\"http://www.w3.org/2000/svg\" height=\"24px\"viewBox=\"0 0 24 24\"\n",
              "     width=\"24px\">\n",
              "    <g>\n",
              "        <path d=\"M19 3H5c-1.1 0-2 .9-2 2v14c0 1.1.9 2 2 2h14c1.1 0 2-.9 2-2V5c0-1.1-.9-2-2-2zM9 17H7v-7h2v7zm4 0h-2V7h2v10zm4 0h-2v-4h2v4z\"/>\n",
              "    </g>\n",
              "</svg>\n",
              "  </button>\n",
              "\n",
              "<style>\n",
              "  .colab-df-quickchart {\n",
              "      --bg-color: #E8F0FE;\n",
              "      --fill-color: #1967D2;\n",
              "      --hover-bg-color: #E2EBFA;\n",
              "      --hover-fill-color: #174EA6;\n",
              "      --disabled-fill-color: #AAA;\n",
              "      --disabled-bg-color: #DDD;\n",
              "  }\n",
              "\n",
              "  [theme=dark] .colab-df-quickchart {\n",
              "      --bg-color: #3B4455;\n",
              "      --fill-color: #D2E3FC;\n",
              "      --hover-bg-color: #434B5C;\n",
              "      --hover-fill-color: #FFFFFF;\n",
              "      --disabled-bg-color: #3B4455;\n",
              "      --disabled-fill-color: #666;\n",
              "  }\n",
              "\n",
              "  .colab-df-quickchart {\n",
              "    background-color: var(--bg-color);\n",
              "    border: none;\n",
              "    border-radius: 50%;\n",
              "    cursor: pointer;\n",
              "    display: none;\n",
              "    fill: var(--fill-color);\n",
              "    height: 32px;\n",
              "    padding: 0;\n",
              "    width: 32px;\n",
              "  }\n",
              "\n",
              "  .colab-df-quickchart:hover {\n",
              "    background-color: var(--hover-bg-color);\n",
              "    box-shadow: 0 1px 2px rgba(60, 64, 67, 0.3), 0 1px 3px 1px rgba(60, 64, 67, 0.15);\n",
              "    fill: var(--button-hover-fill-color);\n",
              "  }\n",
              "\n",
              "  .colab-df-quickchart-complete:disabled,\n",
              "  .colab-df-quickchart-complete:disabled:hover {\n",
              "    background-color: var(--disabled-bg-color);\n",
              "    fill: var(--disabled-fill-color);\n",
              "    box-shadow: none;\n",
              "  }\n",
              "\n",
              "  .colab-df-spinner {\n",
              "    border: 2px solid var(--fill-color);\n",
              "    border-color: transparent;\n",
              "    border-bottom-color: var(--fill-color);\n",
              "    animation:\n",
              "      spin 1s steps(1) infinite;\n",
              "  }\n",
              "\n",
              "  @keyframes spin {\n",
              "    0% {\n",
              "      border-color: transparent;\n",
              "      border-bottom-color: var(--fill-color);\n",
              "      border-left-color: var(--fill-color);\n",
              "    }\n",
              "    20% {\n",
              "      border-color: transparent;\n",
              "      border-left-color: var(--fill-color);\n",
              "      border-top-color: var(--fill-color);\n",
              "    }\n",
              "    30% {\n",
              "      border-color: transparent;\n",
              "      border-left-color: var(--fill-color);\n",
              "      border-top-color: var(--fill-color);\n",
              "      border-right-color: var(--fill-color);\n",
              "    }\n",
              "    40% {\n",
              "      border-color: transparent;\n",
              "      border-right-color: var(--fill-color);\n",
              "      border-top-color: var(--fill-color);\n",
              "    }\n",
              "    60% {\n",
              "      border-color: transparent;\n",
              "      border-right-color: var(--fill-color);\n",
              "    }\n",
              "    80% {\n",
              "      border-color: transparent;\n",
              "      border-right-color: var(--fill-color);\n",
              "      border-bottom-color: var(--fill-color);\n",
              "    }\n",
              "    90% {\n",
              "      border-color: transparent;\n",
              "      border-bottom-color: var(--fill-color);\n",
              "    }\n",
              "  }\n",
              "</style>\n",
              "\n",
              "  <script>\n",
              "    async function quickchart(key) {\n",
              "      const quickchartButtonEl =\n",
              "        document.querySelector('#' + key + ' button');\n",
              "      quickchartButtonEl.disabled = true;  // To prevent multiple clicks.\n",
              "      quickchartButtonEl.classList.add('colab-df-spinner');\n",
              "      try {\n",
              "        const charts = await google.colab.kernel.invokeFunction(\n",
              "            'suggestCharts', [key], {});\n",
              "      } catch (error) {\n",
              "        console.error('Error during call to suggestCharts:', error);\n",
              "      }\n",
              "      quickchartButtonEl.classList.remove('colab-df-spinner');\n",
              "      quickchartButtonEl.classList.add('colab-df-quickchart-complete');\n",
              "    }\n",
              "    (() => {\n",
              "      let quickchartButtonEl =\n",
              "        document.querySelector('#df-61edd246-c6dc-43b9-876a-bd2555d714ec button');\n",
              "      quickchartButtonEl.style.display =\n",
              "        google.colab.kernel.accessAllowed ? 'block' : 'none';\n",
              "    })();\n",
              "  </script>\n",
              "</div>\n",
              "    </div>\n",
              "  </div>\n"
            ]
          },
          "metadata": {},
          "execution_count": 16
        }
      ]
    },
    {
      "cell_type": "code",
      "source": [
        "IPCA = sdpy.get_table(table_code= '7061',territorial_level= '1', ibge_territorial_code= '1',\n",
        "               variable= '306', classification= '315/7169')\n",
        "\n",
        "IPCA"
      ],
      "metadata": {
        "colab": {
          "base_uri": "https://localhost:8080/",
          "height": 199
        },
        "id": "toG9bsfSN0NS",
        "outputId": "fe5e65a7-60ee-4995-a156-7762060a22ef"
      },
      "execution_count": null,
      "outputs": [
        {
          "output_type": "execute_result",
          "data": {
            "text/plain": [
              "                           NC                 NN                          MC  \\\n",
              "0  Nível Territorial (Código)  Nível Territorial  Unidade de Medida (Código)   \n",
              "1                           1             Brasil                           2   \n",
              "\n",
              "                  MN      V              D1C     D1N                D2C  \\\n",
              "0  Unidade de Medida  Valor  Brasil (Código)  Brasil  Variável (Código)   \n",
              "1                  %   0.30                1  Brasil                306   \n",
              "\n",
              "                                      D2N  \\\n",
              "0                                Variável   \n",
              "1  IPCA dessazonalizado - Variação mensal   \n",
              "\n",
              "                                               D3C  \\\n",
              "0  Geral, grupo, subgrupo, item e subitem (Código)   \n",
              "1                                             7169   \n",
              "\n",
              "                                      D3N           D4C          D4N  \n",
              "0  Geral, grupo, subgrupo, item e subitem  Mês (Código)          Mês  \n",
              "1                            Índice geral        202308  agosto 2023  "
            ],
            "text/html": [
              "\n",
              "  <div id=\"df-1fa79b10-d65b-447b-9e14-9fc51519dff4\" class=\"colab-df-container\">\n",
              "    <div>\n",
              "<style scoped>\n",
              "    .dataframe tbody tr th:only-of-type {\n",
              "        vertical-align: middle;\n",
              "    }\n",
              "\n",
              "    .dataframe tbody tr th {\n",
              "        vertical-align: top;\n",
              "    }\n",
              "\n",
              "    .dataframe thead th {\n",
              "        text-align: right;\n",
              "    }\n",
              "</style>\n",
              "<table border=\"1\" class=\"dataframe\">\n",
              "  <thead>\n",
              "    <tr style=\"text-align: right;\">\n",
              "      <th></th>\n",
              "      <th>NC</th>\n",
              "      <th>NN</th>\n",
              "      <th>MC</th>\n",
              "      <th>MN</th>\n",
              "      <th>V</th>\n",
              "      <th>D1C</th>\n",
              "      <th>D1N</th>\n",
              "      <th>D2C</th>\n",
              "      <th>D2N</th>\n",
              "      <th>D3C</th>\n",
              "      <th>D3N</th>\n",
              "      <th>D4C</th>\n",
              "      <th>D4N</th>\n",
              "    </tr>\n",
              "  </thead>\n",
              "  <tbody>\n",
              "    <tr>\n",
              "      <th>0</th>\n",
              "      <td>Nível Territorial (Código)</td>\n",
              "      <td>Nível Territorial</td>\n",
              "      <td>Unidade de Medida (Código)</td>\n",
              "      <td>Unidade de Medida</td>\n",
              "      <td>Valor</td>\n",
              "      <td>Brasil (Código)</td>\n",
              "      <td>Brasil</td>\n",
              "      <td>Variável (Código)</td>\n",
              "      <td>Variável</td>\n",
              "      <td>Geral, grupo, subgrupo, item e subitem (Código)</td>\n",
              "      <td>Geral, grupo, subgrupo, item e subitem</td>\n",
              "      <td>Mês (Código)</td>\n",
              "      <td>Mês</td>\n",
              "    </tr>\n",
              "    <tr>\n",
              "      <th>1</th>\n",
              "      <td>1</td>\n",
              "      <td>Brasil</td>\n",
              "      <td>2</td>\n",
              "      <td>%</td>\n",
              "      <td>0.30</td>\n",
              "      <td>1</td>\n",
              "      <td>Brasil</td>\n",
              "      <td>306</td>\n",
              "      <td>IPCA dessazonalizado - Variação mensal</td>\n",
              "      <td>7169</td>\n",
              "      <td>Índice geral</td>\n",
              "      <td>202308</td>\n",
              "      <td>agosto 2023</td>\n",
              "    </tr>\n",
              "  </tbody>\n",
              "</table>\n",
              "</div>\n",
              "    <div class=\"colab-df-buttons\">\n",
              "\n",
              "  <div class=\"colab-df-container\">\n",
              "    <button class=\"colab-df-convert\" onclick=\"convertToInteractive('df-1fa79b10-d65b-447b-9e14-9fc51519dff4')\"\n",
              "            title=\"Convert this dataframe to an interactive table.\"\n",
              "            style=\"display:none;\">\n",
              "\n",
              "  <svg xmlns=\"http://www.w3.org/2000/svg\" height=\"24px\" viewBox=\"0 -960 960 960\">\n",
              "    <path d=\"M120-120v-720h720v720H120Zm60-500h600v-160H180v160Zm220 220h160v-160H400v160Zm0 220h160v-160H400v160ZM180-400h160v-160H180v160Zm440 0h160v-160H620v160ZM180-180h160v-160H180v160Zm440 0h160v-160H620v160Z\"/>\n",
              "  </svg>\n",
              "    </button>\n",
              "\n",
              "  <style>\n",
              "    .colab-df-container {\n",
              "      display:flex;\n",
              "      gap: 12px;\n",
              "    }\n",
              "\n",
              "    .colab-df-convert {\n",
              "      background-color: #E8F0FE;\n",
              "      border: none;\n",
              "      border-radius: 50%;\n",
              "      cursor: pointer;\n",
              "      display: none;\n",
              "      fill: #1967D2;\n",
              "      height: 32px;\n",
              "      padding: 0 0 0 0;\n",
              "      width: 32px;\n",
              "    }\n",
              "\n",
              "    .colab-df-convert:hover {\n",
              "      background-color: #E2EBFA;\n",
              "      box-shadow: 0px 1px 2px rgba(60, 64, 67, 0.3), 0px 1px 3px 1px rgba(60, 64, 67, 0.15);\n",
              "      fill: #174EA6;\n",
              "    }\n",
              "\n",
              "    .colab-df-buttons div {\n",
              "      margin-bottom: 4px;\n",
              "    }\n",
              "\n",
              "    [theme=dark] .colab-df-convert {\n",
              "      background-color: #3B4455;\n",
              "      fill: #D2E3FC;\n",
              "    }\n",
              "\n",
              "    [theme=dark] .colab-df-convert:hover {\n",
              "      background-color: #434B5C;\n",
              "      box-shadow: 0px 1px 3px 1px rgba(0, 0, 0, 0.15);\n",
              "      filter: drop-shadow(0px 1px 2px rgba(0, 0, 0, 0.3));\n",
              "      fill: #FFFFFF;\n",
              "    }\n",
              "  </style>\n",
              "\n",
              "    <script>\n",
              "      const buttonEl =\n",
              "        document.querySelector('#df-1fa79b10-d65b-447b-9e14-9fc51519dff4 button.colab-df-convert');\n",
              "      buttonEl.style.display =\n",
              "        google.colab.kernel.accessAllowed ? 'block' : 'none';\n",
              "\n",
              "      async function convertToInteractive(key) {\n",
              "        const element = document.querySelector('#df-1fa79b10-d65b-447b-9e14-9fc51519dff4');\n",
              "        const dataTable =\n",
              "          await google.colab.kernel.invokeFunction('convertToInteractive',\n",
              "                                                    [key], {});\n",
              "        if (!dataTable) return;\n",
              "\n",
              "        const docLinkHtml = 'Like what you see? Visit the ' +\n",
              "          '<a target=\"_blank\" href=https://colab.research.google.com/notebooks/data_table.ipynb>data table notebook</a>'\n",
              "          + ' to learn more about interactive tables.';\n",
              "        element.innerHTML = '';\n",
              "        dataTable['output_type'] = 'display_data';\n",
              "        await google.colab.output.renderOutput(dataTable, element);\n",
              "        const docLink = document.createElement('div');\n",
              "        docLink.innerHTML = docLinkHtml;\n",
              "        element.appendChild(docLink);\n",
              "      }\n",
              "    </script>\n",
              "  </div>\n",
              "\n",
              "\n",
              "<div id=\"df-861867c2-a78a-48b6-b714-a537df35bd5d\">\n",
              "  <button class=\"colab-df-quickchart\" onclick=\"quickchart('df-861867c2-a78a-48b6-b714-a537df35bd5d')\"\n",
              "            title=\"Suggest charts.\"\n",
              "            style=\"display:none;\">\n",
              "\n",
              "<svg xmlns=\"http://www.w3.org/2000/svg\" height=\"24px\"viewBox=\"0 0 24 24\"\n",
              "     width=\"24px\">\n",
              "    <g>\n",
              "        <path d=\"M19 3H5c-1.1 0-2 .9-2 2v14c0 1.1.9 2 2 2h14c1.1 0 2-.9 2-2V5c0-1.1-.9-2-2-2zM9 17H7v-7h2v7zm4 0h-2V7h2v10zm4 0h-2v-4h2v4z\"/>\n",
              "    </g>\n",
              "</svg>\n",
              "  </button>\n",
              "\n",
              "<style>\n",
              "  .colab-df-quickchart {\n",
              "      --bg-color: #E8F0FE;\n",
              "      --fill-color: #1967D2;\n",
              "      --hover-bg-color: #E2EBFA;\n",
              "      --hover-fill-color: #174EA6;\n",
              "      --disabled-fill-color: #AAA;\n",
              "      --disabled-bg-color: #DDD;\n",
              "  }\n",
              "\n",
              "  [theme=dark] .colab-df-quickchart {\n",
              "      --bg-color: #3B4455;\n",
              "      --fill-color: #D2E3FC;\n",
              "      --hover-bg-color: #434B5C;\n",
              "      --hover-fill-color: #FFFFFF;\n",
              "      --disabled-bg-color: #3B4455;\n",
              "      --disabled-fill-color: #666;\n",
              "  }\n",
              "\n",
              "  .colab-df-quickchart {\n",
              "    background-color: var(--bg-color);\n",
              "    border: none;\n",
              "    border-radius: 50%;\n",
              "    cursor: pointer;\n",
              "    display: none;\n",
              "    fill: var(--fill-color);\n",
              "    height: 32px;\n",
              "    padding: 0;\n",
              "    width: 32px;\n",
              "  }\n",
              "\n",
              "  .colab-df-quickchart:hover {\n",
              "    background-color: var(--hover-bg-color);\n",
              "    box-shadow: 0 1px 2px rgba(60, 64, 67, 0.3), 0 1px 3px 1px rgba(60, 64, 67, 0.15);\n",
              "    fill: var(--button-hover-fill-color);\n",
              "  }\n",
              "\n",
              "  .colab-df-quickchart-complete:disabled,\n",
              "  .colab-df-quickchart-complete:disabled:hover {\n",
              "    background-color: var(--disabled-bg-color);\n",
              "    fill: var(--disabled-fill-color);\n",
              "    box-shadow: none;\n",
              "  }\n",
              "\n",
              "  .colab-df-spinner {\n",
              "    border: 2px solid var(--fill-color);\n",
              "    border-color: transparent;\n",
              "    border-bottom-color: var(--fill-color);\n",
              "    animation:\n",
              "      spin 1s steps(1) infinite;\n",
              "  }\n",
              "\n",
              "  @keyframes spin {\n",
              "    0% {\n",
              "      border-color: transparent;\n",
              "      border-bottom-color: var(--fill-color);\n",
              "      border-left-color: var(--fill-color);\n",
              "    }\n",
              "    20% {\n",
              "      border-color: transparent;\n",
              "      border-left-color: var(--fill-color);\n",
              "      border-top-color: var(--fill-color);\n",
              "    }\n",
              "    30% {\n",
              "      border-color: transparent;\n",
              "      border-left-color: var(--fill-color);\n",
              "      border-top-color: var(--fill-color);\n",
              "      border-right-color: var(--fill-color);\n",
              "    }\n",
              "    40% {\n",
              "      border-color: transparent;\n",
              "      border-right-color: var(--fill-color);\n",
              "      border-top-color: var(--fill-color);\n",
              "    }\n",
              "    60% {\n",
              "      border-color: transparent;\n",
              "      border-right-color: var(--fill-color);\n",
              "    }\n",
              "    80% {\n",
              "      border-color: transparent;\n",
              "      border-right-color: var(--fill-color);\n",
              "      border-bottom-color: var(--fill-color);\n",
              "    }\n",
              "    90% {\n",
              "      border-color: transparent;\n",
              "      border-bottom-color: var(--fill-color);\n",
              "    }\n",
              "  }\n",
              "</style>\n",
              "\n",
              "  <script>\n",
              "    async function quickchart(key) {\n",
              "      const quickchartButtonEl =\n",
              "        document.querySelector('#' + key + ' button');\n",
              "      quickchartButtonEl.disabled = true;  // To prevent multiple clicks.\n",
              "      quickchartButtonEl.classList.add('colab-df-spinner');\n",
              "      try {\n",
              "        const charts = await google.colab.kernel.invokeFunction(\n",
              "            'suggestCharts', [key], {});\n",
              "      } catch (error) {\n",
              "        console.error('Error during call to suggestCharts:', error);\n",
              "      }\n",
              "      quickchartButtonEl.classList.remove('colab-df-spinner');\n",
              "      quickchartButtonEl.classList.add('colab-df-quickchart-complete');\n",
              "    }\n",
              "    (() => {\n",
              "      let quickchartButtonEl =\n",
              "        document.querySelector('#df-861867c2-a78a-48b6-b714-a537df35bd5d button');\n",
              "      quickchartButtonEl.style.display =\n",
              "        google.colab.kernel.accessAllowed ? 'block' : 'none';\n",
              "    })();\n",
              "  </script>\n",
              "</div>\n",
              "    </div>\n",
              "  </div>\n"
            ]
          },
          "metadata": {},
          "execution_count": 23
        }
      ]
    },
    {
      "cell_type": "code",
      "source": [
        "IPCA_2020 = sdpy.get_table(table_code= '7061',territorial_level= '1', ibge_territorial_code= '1',\n",
        "               variable= '306', classification= '315/7169', period= 'all' )\n",
        "IPCA_2020"
      ],
      "metadata": {
        "colab": {
          "base_uri": "https://localhost:8080/",
          "height": 1000
        },
        "id": "R6w3MITZOgZT",
        "outputId": "2291cd7d-eb03-40a9-d041-763b26d0d104"
      },
      "execution_count": null,
      "outputs": [
        {
          "output_type": "execute_result",
          "data": {
            "text/plain": [
              "                            NC                 NN                          MC  \\\n",
              "0   Nível Territorial (Código)  Nível Territorial  Unidade de Medida (Código)   \n",
              "1                            1             Brasil                           2   \n",
              "2                            1             Brasil                           2   \n",
              "3                            1             Brasil                           2   \n",
              "4                            1             Brasil                           2   \n",
              "5                            1             Brasil                           2   \n",
              "6                            1             Brasil                           2   \n",
              "7                            1             Brasil                           2   \n",
              "8                            1             Brasil                           2   \n",
              "9                            1             Brasil                           2   \n",
              "10                           1             Brasil                           2   \n",
              "11                           1             Brasil                           2   \n",
              "12                           1             Brasil                           2   \n",
              "13                           1             Brasil                           2   \n",
              "14                           1             Brasil                           2   \n",
              "15                           1             Brasil                           2   \n",
              "16                           1             Brasil                           2   \n",
              "17                           1             Brasil                           2   \n",
              "18                           1             Brasil                           2   \n",
              "19                           1             Brasil                           2   \n",
              "20                           1             Brasil                           2   \n",
              "21                           1             Brasil                           2   \n",
              "22                           1             Brasil                           2   \n",
              "23                           1             Brasil                           2   \n",
              "24                           1             Brasil                           2   \n",
              "25                           1             Brasil                           2   \n",
              "26                           1             Brasil                           2   \n",
              "27                           1             Brasil                           2   \n",
              "28                           1             Brasil                           2   \n",
              "29                           1             Brasil                           2   \n",
              "30                           1             Brasil                           2   \n",
              "31                           1             Brasil                           2   \n",
              "32                           1             Brasil                           2   \n",
              "33                           1             Brasil                           2   \n",
              "34                           1             Brasil                           2   \n",
              "35                           1             Brasil                           2   \n",
              "36                           1             Brasil                           2   \n",
              "37                           1             Brasil                           2   \n",
              "38                           1             Brasil                           2   \n",
              "39                           1             Brasil                           2   \n",
              "40                           1             Brasil                           2   \n",
              "41                           1             Brasil                           2   \n",
              "42                           1             Brasil                           2   \n",
              "43                           1             Brasil                           2   \n",
              "44                           1             Brasil                           2   \n",
              "\n",
              "                   MN      V              D1C     D1N           D2C  \\\n",
              "0   Unidade de Medida  Valor  Brasil (Código)  Brasil  Mês (Código)   \n",
              "1                   %   0.15                1  Brasil        202001   \n",
              "2                   %   0.26                1  Brasil        202002   \n",
              "3                   %   0.01                1  Brasil        202003   \n",
              "4                   %  -0.35                1  Brasil        202004   \n",
              "5                   %  -0.36                1  Brasil        202005   \n",
              "6                   %   0.31                1  Brasil        202006   \n",
              "7                   %   0.44                1  Brasil        202007   \n",
              "8                   %   0.32                1  Brasil        202008   \n",
              "9                   %   0.69                1  Brasil        202009   \n",
              "10                  %   0.85                1  Brasil        202010   \n",
              "11                  %   0.84                1  Brasil        202011   \n",
              "12                  %   1.27                1  Brasil        202012   \n",
              "13                  %   0.18                1  Brasil        202101   \n",
              "14                  %   0.88                1  Brasil        202102   \n",
              "15                  %   0.89                1  Brasil        202103   \n",
              "16                  %   0.30                1  Brasil        202104   \n",
              "17                  %   0.88                1  Brasil        202105   \n",
              "18                  %   0.59                1  Brasil        202106   \n",
              "19                  %   1.02                1  Brasil        202107   \n",
              "20                  %   0.94                1  Brasil        202108   \n",
              "21                  %   1.18                1  Brasil        202109   \n",
              "22                  %   1.22                1  Brasil        202110   \n",
              "23                  %   0.87                1  Brasil        202111   \n",
              "24                  %   0.64                1  Brasil        202112   \n",
              "25                  %   0.47                1  Brasil        202201   \n",
              "26                  %   1.02                1  Brasil        202202   \n",
              "27                  %   1.54                1  Brasil        202203   \n",
              "28                  %   1.03                1  Brasil        202204   \n",
              "29                  %   0.52                1  Brasil        202205   \n",
              "30                  %   0.73                1  Brasil        202206   \n",
              "31                  %  -0.61                1  Brasil        202207   \n",
              "32                  %  -0.30                1  Brasil        202208   \n",
              "33                  %  -0.23                1  Brasil        202209   \n",
              "34                  %   0.59                1  Brasil        202210   \n",
              "35                  %   0.36                1  Brasil        202211   \n",
              "36                  %   0.53                1  Brasil        202212   \n",
              "37                  %   0.44                1  Brasil        202301   \n",
              "38                  %   0.85                1  Brasil        202302   \n",
              "39                  %   0.64                1  Brasil        202303   \n",
              "40                  %   0.58                1  Brasil        202304   \n",
              "41                  %   0.28                1  Brasil        202305   \n",
              "42                  %  -0.02                1  Brasil        202306   \n",
              "43                  %   0.19                1  Brasil        202307   \n",
              "44                  %   0.30                1  Brasil        202308   \n",
              "\n",
              "               D2N                D3C                                     D3N  \\\n",
              "0              Mês  Variável (Código)                                Variável   \n",
              "1     janeiro 2020                306  IPCA dessazonalizado - Variação mensal   \n",
              "2   fevereiro 2020                306  IPCA dessazonalizado - Variação mensal   \n",
              "3       março 2020                306  IPCA dessazonalizado - Variação mensal   \n",
              "4       abril 2020                306  IPCA dessazonalizado - Variação mensal   \n",
              "5        maio 2020                306  IPCA dessazonalizado - Variação mensal   \n",
              "6       junho 2020                306  IPCA dessazonalizado - Variação mensal   \n",
              "7       julho 2020                306  IPCA dessazonalizado - Variação mensal   \n",
              "8      agosto 2020                306  IPCA dessazonalizado - Variação mensal   \n",
              "9    setembro 2020                306  IPCA dessazonalizado - Variação mensal   \n",
              "10    outubro 2020                306  IPCA dessazonalizado - Variação mensal   \n",
              "11   novembro 2020                306  IPCA dessazonalizado - Variação mensal   \n",
              "12   dezembro 2020                306  IPCA dessazonalizado - Variação mensal   \n",
              "13    janeiro 2021                306  IPCA dessazonalizado - Variação mensal   \n",
              "14  fevereiro 2021                306  IPCA dessazonalizado - Variação mensal   \n",
              "15      março 2021                306  IPCA dessazonalizado - Variação mensal   \n",
              "16      abril 2021                306  IPCA dessazonalizado - Variação mensal   \n",
              "17       maio 2021                306  IPCA dessazonalizado - Variação mensal   \n",
              "18      junho 2021                306  IPCA dessazonalizado - Variação mensal   \n",
              "19      julho 2021                306  IPCA dessazonalizado - Variação mensal   \n",
              "20     agosto 2021                306  IPCA dessazonalizado - Variação mensal   \n",
              "21   setembro 2021                306  IPCA dessazonalizado - Variação mensal   \n",
              "22    outubro 2021                306  IPCA dessazonalizado - Variação mensal   \n",
              "23   novembro 2021                306  IPCA dessazonalizado - Variação mensal   \n",
              "24   dezembro 2021                306  IPCA dessazonalizado - Variação mensal   \n",
              "25    janeiro 2022                306  IPCA dessazonalizado - Variação mensal   \n",
              "26  fevereiro 2022                306  IPCA dessazonalizado - Variação mensal   \n",
              "27      março 2022                306  IPCA dessazonalizado - Variação mensal   \n",
              "28      abril 2022                306  IPCA dessazonalizado - Variação mensal   \n",
              "29       maio 2022                306  IPCA dessazonalizado - Variação mensal   \n",
              "30      junho 2022                306  IPCA dessazonalizado - Variação mensal   \n",
              "31      julho 2022                306  IPCA dessazonalizado - Variação mensal   \n",
              "32     agosto 2022                306  IPCA dessazonalizado - Variação mensal   \n",
              "33   setembro 2022                306  IPCA dessazonalizado - Variação mensal   \n",
              "34    outubro 2022                306  IPCA dessazonalizado - Variação mensal   \n",
              "35   novembro 2022                306  IPCA dessazonalizado - Variação mensal   \n",
              "36   dezembro 2022                306  IPCA dessazonalizado - Variação mensal   \n",
              "37    janeiro 2023                306  IPCA dessazonalizado - Variação mensal   \n",
              "38  fevereiro 2023                306  IPCA dessazonalizado - Variação mensal   \n",
              "39      março 2023                306  IPCA dessazonalizado - Variação mensal   \n",
              "40      abril 2023                306  IPCA dessazonalizado - Variação mensal   \n",
              "41       maio 2023                306  IPCA dessazonalizado - Variação mensal   \n",
              "42      junho 2023                306  IPCA dessazonalizado - Variação mensal   \n",
              "43      julho 2023                306  IPCA dessazonalizado - Variação mensal   \n",
              "44     agosto 2023                306  IPCA dessazonalizado - Variação mensal   \n",
              "\n",
              "                                                D4C  \\\n",
              "0   Geral, grupo, subgrupo, item e subitem (Código)   \n",
              "1                                              7169   \n",
              "2                                              7169   \n",
              "3                                              7169   \n",
              "4                                              7169   \n",
              "5                                              7169   \n",
              "6                                              7169   \n",
              "7                                              7169   \n",
              "8                                              7169   \n",
              "9                                              7169   \n",
              "10                                             7169   \n",
              "11                                             7169   \n",
              "12                                             7169   \n",
              "13                                             7169   \n",
              "14                                             7169   \n",
              "15                                             7169   \n",
              "16                                             7169   \n",
              "17                                             7169   \n",
              "18                                             7169   \n",
              "19                                             7169   \n",
              "20                                             7169   \n",
              "21                                             7169   \n",
              "22                                             7169   \n",
              "23                                             7169   \n",
              "24                                             7169   \n",
              "25                                             7169   \n",
              "26                                             7169   \n",
              "27                                             7169   \n",
              "28                                             7169   \n",
              "29                                             7169   \n",
              "30                                             7169   \n",
              "31                                             7169   \n",
              "32                                             7169   \n",
              "33                                             7169   \n",
              "34                                             7169   \n",
              "35                                             7169   \n",
              "36                                             7169   \n",
              "37                                             7169   \n",
              "38                                             7169   \n",
              "39                                             7169   \n",
              "40                                             7169   \n",
              "41                                             7169   \n",
              "42                                             7169   \n",
              "43                                             7169   \n",
              "44                                             7169   \n",
              "\n",
              "                                       D4N  \n",
              "0   Geral, grupo, subgrupo, item e subitem  \n",
              "1                             Índice geral  \n",
              "2                             Índice geral  \n",
              "3                             Índice geral  \n",
              "4                             Índice geral  \n",
              "5                             Índice geral  \n",
              "6                             Índice geral  \n",
              "7                             Índice geral  \n",
              "8                             Índice geral  \n",
              "9                             Índice geral  \n",
              "10                            Índice geral  \n",
              "11                            Índice geral  \n",
              "12                            Índice geral  \n",
              "13                            Índice geral  \n",
              "14                            Índice geral  \n",
              "15                            Índice geral  \n",
              "16                            Índice geral  \n",
              "17                            Índice geral  \n",
              "18                            Índice geral  \n",
              "19                            Índice geral  \n",
              "20                            Índice geral  \n",
              "21                            Índice geral  \n",
              "22                            Índice geral  \n",
              "23                            Índice geral  \n",
              "24                            Índice geral  \n",
              "25                            Índice geral  \n",
              "26                            Índice geral  \n",
              "27                            Índice geral  \n",
              "28                            Índice geral  \n",
              "29                            Índice geral  \n",
              "30                            Índice geral  \n",
              "31                            Índice geral  \n",
              "32                            Índice geral  \n",
              "33                            Índice geral  \n",
              "34                            Índice geral  \n",
              "35                            Índice geral  \n",
              "36                            Índice geral  \n",
              "37                            Índice geral  \n",
              "38                            Índice geral  \n",
              "39                            Índice geral  \n",
              "40                            Índice geral  \n",
              "41                            Índice geral  \n",
              "42                            Índice geral  \n",
              "43                            Índice geral  \n",
              "44                            Índice geral  "
            ],
            "text/html": [
              "\n",
              "  <div id=\"df-d54990b3-6d7b-4fa3-a1f7-7caf44bb7285\" class=\"colab-df-container\">\n",
              "    <div>\n",
              "<style scoped>\n",
              "    .dataframe tbody tr th:only-of-type {\n",
              "        vertical-align: middle;\n",
              "    }\n",
              "\n",
              "    .dataframe tbody tr th {\n",
              "        vertical-align: top;\n",
              "    }\n",
              "\n",
              "    .dataframe thead th {\n",
              "        text-align: right;\n",
              "    }\n",
              "</style>\n",
              "<table border=\"1\" class=\"dataframe\">\n",
              "  <thead>\n",
              "    <tr style=\"text-align: right;\">\n",
              "      <th></th>\n",
              "      <th>NC</th>\n",
              "      <th>NN</th>\n",
              "      <th>MC</th>\n",
              "      <th>MN</th>\n",
              "      <th>V</th>\n",
              "      <th>D1C</th>\n",
              "      <th>D1N</th>\n",
              "      <th>D2C</th>\n",
              "      <th>D2N</th>\n",
              "      <th>D3C</th>\n",
              "      <th>D3N</th>\n",
              "      <th>D4C</th>\n",
              "      <th>D4N</th>\n",
              "    </tr>\n",
              "  </thead>\n",
              "  <tbody>\n",
              "    <tr>\n",
              "      <th>0</th>\n",
              "      <td>Nível Territorial (Código)</td>\n",
              "      <td>Nível Territorial</td>\n",
              "      <td>Unidade de Medida (Código)</td>\n",
              "      <td>Unidade de Medida</td>\n",
              "      <td>Valor</td>\n",
              "      <td>Brasil (Código)</td>\n",
              "      <td>Brasil</td>\n",
              "      <td>Mês (Código)</td>\n",
              "      <td>Mês</td>\n",
              "      <td>Variável (Código)</td>\n",
              "      <td>Variável</td>\n",
              "      <td>Geral, grupo, subgrupo, item e subitem (Código)</td>\n",
              "      <td>Geral, grupo, subgrupo, item e subitem</td>\n",
              "    </tr>\n",
              "    <tr>\n",
              "      <th>1</th>\n",
              "      <td>1</td>\n",
              "      <td>Brasil</td>\n",
              "      <td>2</td>\n",
              "      <td>%</td>\n",
              "      <td>0.15</td>\n",
              "      <td>1</td>\n",
              "      <td>Brasil</td>\n",
              "      <td>202001</td>\n",
              "      <td>janeiro 2020</td>\n",
              "      <td>306</td>\n",
              "      <td>IPCA dessazonalizado - Variação mensal</td>\n",
              "      <td>7169</td>\n",
              "      <td>Índice geral</td>\n",
              "    </tr>\n",
              "    <tr>\n",
              "      <th>2</th>\n",
              "      <td>1</td>\n",
              "      <td>Brasil</td>\n",
              "      <td>2</td>\n",
              "      <td>%</td>\n",
              "      <td>0.26</td>\n",
              "      <td>1</td>\n",
              "      <td>Brasil</td>\n",
              "      <td>202002</td>\n",
              "      <td>fevereiro 2020</td>\n",
              "      <td>306</td>\n",
              "      <td>IPCA dessazonalizado - Variação mensal</td>\n",
              "      <td>7169</td>\n",
              "      <td>Índice geral</td>\n",
              "    </tr>\n",
              "    <tr>\n",
              "      <th>3</th>\n",
              "      <td>1</td>\n",
              "      <td>Brasil</td>\n",
              "      <td>2</td>\n",
              "      <td>%</td>\n",
              "      <td>0.01</td>\n",
              "      <td>1</td>\n",
              "      <td>Brasil</td>\n",
              "      <td>202003</td>\n",
              "      <td>março 2020</td>\n",
              "      <td>306</td>\n",
              "      <td>IPCA dessazonalizado - Variação mensal</td>\n",
              "      <td>7169</td>\n",
              "      <td>Índice geral</td>\n",
              "    </tr>\n",
              "    <tr>\n",
              "      <th>4</th>\n",
              "      <td>1</td>\n",
              "      <td>Brasil</td>\n",
              "      <td>2</td>\n",
              "      <td>%</td>\n",
              "      <td>-0.35</td>\n",
              "      <td>1</td>\n",
              "      <td>Brasil</td>\n",
              "      <td>202004</td>\n",
              "      <td>abril 2020</td>\n",
              "      <td>306</td>\n",
              "      <td>IPCA dessazonalizado - Variação mensal</td>\n",
              "      <td>7169</td>\n",
              "      <td>Índice geral</td>\n",
              "    </tr>\n",
              "    <tr>\n",
              "      <th>5</th>\n",
              "      <td>1</td>\n",
              "      <td>Brasil</td>\n",
              "      <td>2</td>\n",
              "      <td>%</td>\n",
              "      <td>-0.36</td>\n",
              "      <td>1</td>\n",
              "      <td>Brasil</td>\n",
              "      <td>202005</td>\n",
              "      <td>maio 2020</td>\n",
              "      <td>306</td>\n",
              "      <td>IPCA dessazonalizado - Variação mensal</td>\n",
              "      <td>7169</td>\n",
              "      <td>Índice geral</td>\n",
              "    </tr>\n",
              "    <tr>\n",
              "      <th>6</th>\n",
              "      <td>1</td>\n",
              "      <td>Brasil</td>\n",
              "      <td>2</td>\n",
              "      <td>%</td>\n",
              "      <td>0.31</td>\n",
              "      <td>1</td>\n",
              "      <td>Brasil</td>\n",
              "      <td>202006</td>\n",
              "      <td>junho 2020</td>\n",
              "      <td>306</td>\n",
              "      <td>IPCA dessazonalizado - Variação mensal</td>\n",
              "      <td>7169</td>\n",
              "      <td>Índice geral</td>\n",
              "    </tr>\n",
              "    <tr>\n",
              "      <th>7</th>\n",
              "      <td>1</td>\n",
              "      <td>Brasil</td>\n",
              "      <td>2</td>\n",
              "      <td>%</td>\n",
              "      <td>0.44</td>\n",
              "      <td>1</td>\n",
              "      <td>Brasil</td>\n",
              "      <td>202007</td>\n",
              "      <td>julho 2020</td>\n",
              "      <td>306</td>\n",
              "      <td>IPCA dessazonalizado - Variação mensal</td>\n",
              "      <td>7169</td>\n",
              "      <td>Índice geral</td>\n",
              "    </tr>\n",
              "    <tr>\n",
              "      <th>8</th>\n",
              "      <td>1</td>\n",
              "      <td>Brasil</td>\n",
              "      <td>2</td>\n",
              "      <td>%</td>\n",
              "      <td>0.32</td>\n",
              "      <td>1</td>\n",
              "      <td>Brasil</td>\n",
              "      <td>202008</td>\n",
              "      <td>agosto 2020</td>\n",
              "      <td>306</td>\n",
              "      <td>IPCA dessazonalizado - Variação mensal</td>\n",
              "      <td>7169</td>\n",
              "      <td>Índice geral</td>\n",
              "    </tr>\n",
              "    <tr>\n",
              "      <th>9</th>\n",
              "      <td>1</td>\n",
              "      <td>Brasil</td>\n",
              "      <td>2</td>\n",
              "      <td>%</td>\n",
              "      <td>0.69</td>\n",
              "      <td>1</td>\n",
              "      <td>Brasil</td>\n",
              "      <td>202009</td>\n",
              "      <td>setembro 2020</td>\n",
              "      <td>306</td>\n",
              "      <td>IPCA dessazonalizado - Variação mensal</td>\n",
              "      <td>7169</td>\n",
              "      <td>Índice geral</td>\n",
              "    </tr>\n",
              "    <tr>\n",
              "      <th>10</th>\n",
              "      <td>1</td>\n",
              "      <td>Brasil</td>\n",
              "      <td>2</td>\n",
              "      <td>%</td>\n",
              "      <td>0.85</td>\n",
              "      <td>1</td>\n",
              "      <td>Brasil</td>\n",
              "      <td>202010</td>\n",
              "      <td>outubro 2020</td>\n",
              "      <td>306</td>\n",
              "      <td>IPCA dessazonalizado - Variação mensal</td>\n",
              "      <td>7169</td>\n",
              "      <td>Índice geral</td>\n",
              "    </tr>\n",
              "    <tr>\n",
              "      <th>11</th>\n",
              "      <td>1</td>\n",
              "      <td>Brasil</td>\n",
              "      <td>2</td>\n",
              "      <td>%</td>\n",
              "      <td>0.84</td>\n",
              "      <td>1</td>\n",
              "      <td>Brasil</td>\n",
              "      <td>202011</td>\n",
              "      <td>novembro 2020</td>\n",
              "      <td>306</td>\n",
              "      <td>IPCA dessazonalizado - Variação mensal</td>\n",
              "      <td>7169</td>\n",
              "      <td>Índice geral</td>\n",
              "    </tr>\n",
              "    <tr>\n",
              "      <th>12</th>\n",
              "      <td>1</td>\n",
              "      <td>Brasil</td>\n",
              "      <td>2</td>\n",
              "      <td>%</td>\n",
              "      <td>1.27</td>\n",
              "      <td>1</td>\n",
              "      <td>Brasil</td>\n",
              "      <td>202012</td>\n",
              "      <td>dezembro 2020</td>\n",
              "      <td>306</td>\n",
              "      <td>IPCA dessazonalizado - Variação mensal</td>\n",
              "      <td>7169</td>\n",
              "      <td>Índice geral</td>\n",
              "    </tr>\n",
              "    <tr>\n",
              "      <th>13</th>\n",
              "      <td>1</td>\n",
              "      <td>Brasil</td>\n",
              "      <td>2</td>\n",
              "      <td>%</td>\n",
              "      <td>0.18</td>\n",
              "      <td>1</td>\n",
              "      <td>Brasil</td>\n",
              "      <td>202101</td>\n",
              "      <td>janeiro 2021</td>\n",
              "      <td>306</td>\n",
              "      <td>IPCA dessazonalizado - Variação mensal</td>\n",
              "      <td>7169</td>\n",
              "      <td>Índice geral</td>\n",
              "    </tr>\n",
              "    <tr>\n",
              "      <th>14</th>\n",
              "      <td>1</td>\n",
              "      <td>Brasil</td>\n",
              "      <td>2</td>\n",
              "      <td>%</td>\n",
              "      <td>0.88</td>\n",
              "      <td>1</td>\n",
              "      <td>Brasil</td>\n",
              "      <td>202102</td>\n",
              "      <td>fevereiro 2021</td>\n",
              "      <td>306</td>\n",
              "      <td>IPCA dessazonalizado - Variação mensal</td>\n",
              "      <td>7169</td>\n",
              "      <td>Índice geral</td>\n",
              "    </tr>\n",
              "    <tr>\n",
              "      <th>15</th>\n",
              "      <td>1</td>\n",
              "      <td>Brasil</td>\n",
              "      <td>2</td>\n",
              "      <td>%</td>\n",
              "      <td>0.89</td>\n",
              "      <td>1</td>\n",
              "      <td>Brasil</td>\n",
              "      <td>202103</td>\n",
              "      <td>março 2021</td>\n",
              "      <td>306</td>\n",
              "      <td>IPCA dessazonalizado - Variação mensal</td>\n",
              "      <td>7169</td>\n",
              "      <td>Índice geral</td>\n",
              "    </tr>\n",
              "    <tr>\n",
              "      <th>16</th>\n",
              "      <td>1</td>\n",
              "      <td>Brasil</td>\n",
              "      <td>2</td>\n",
              "      <td>%</td>\n",
              "      <td>0.30</td>\n",
              "      <td>1</td>\n",
              "      <td>Brasil</td>\n",
              "      <td>202104</td>\n",
              "      <td>abril 2021</td>\n",
              "      <td>306</td>\n",
              "      <td>IPCA dessazonalizado - Variação mensal</td>\n",
              "      <td>7169</td>\n",
              "      <td>Índice geral</td>\n",
              "    </tr>\n",
              "    <tr>\n",
              "      <th>17</th>\n",
              "      <td>1</td>\n",
              "      <td>Brasil</td>\n",
              "      <td>2</td>\n",
              "      <td>%</td>\n",
              "      <td>0.88</td>\n",
              "      <td>1</td>\n",
              "      <td>Brasil</td>\n",
              "      <td>202105</td>\n",
              "      <td>maio 2021</td>\n",
              "      <td>306</td>\n",
              "      <td>IPCA dessazonalizado - Variação mensal</td>\n",
              "      <td>7169</td>\n",
              "      <td>Índice geral</td>\n",
              "    </tr>\n",
              "    <tr>\n",
              "      <th>18</th>\n",
              "      <td>1</td>\n",
              "      <td>Brasil</td>\n",
              "      <td>2</td>\n",
              "      <td>%</td>\n",
              "      <td>0.59</td>\n",
              "      <td>1</td>\n",
              "      <td>Brasil</td>\n",
              "      <td>202106</td>\n",
              "      <td>junho 2021</td>\n",
              "      <td>306</td>\n",
              "      <td>IPCA dessazonalizado - Variação mensal</td>\n",
              "      <td>7169</td>\n",
              "      <td>Índice geral</td>\n",
              "    </tr>\n",
              "    <tr>\n",
              "      <th>19</th>\n",
              "      <td>1</td>\n",
              "      <td>Brasil</td>\n",
              "      <td>2</td>\n",
              "      <td>%</td>\n",
              "      <td>1.02</td>\n",
              "      <td>1</td>\n",
              "      <td>Brasil</td>\n",
              "      <td>202107</td>\n",
              "      <td>julho 2021</td>\n",
              "      <td>306</td>\n",
              "      <td>IPCA dessazonalizado - Variação mensal</td>\n",
              "      <td>7169</td>\n",
              "      <td>Índice geral</td>\n",
              "    </tr>\n",
              "    <tr>\n",
              "      <th>20</th>\n",
              "      <td>1</td>\n",
              "      <td>Brasil</td>\n",
              "      <td>2</td>\n",
              "      <td>%</td>\n",
              "      <td>0.94</td>\n",
              "      <td>1</td>\n",
              "      <td>Brasil</td>\n",
              "      <td>202108</td>\n",
              "      <td>agosto 2021</td>\n",
              "      <td>306</td>\n",
              "      <td>IPCA dessazonalizado - Variação mensal</td>\n",
              "      <td>7169</td>\n",
              "      <td>Índice geral</td>\n",
              "    </tr>\n",
              "    <tr>\n",
              "      <th>21</th>\n",
              "      <td>1</td>\n",
              "      <td>Brasil</td>\n",
              "      <td>2</td>\n",
              "      <td>%</td>\n",
              "      <td>1.18</td>\n",
              "      <td>1</td>\n",
              "      <td>Brasil</td>\n",
              "      <td>202109</td>\n",
              "      <td>setembro 2021</td>\n",
              "      <td>306</td>\n",
              "      <td>IPCA dessazonalizado - Variação mensal</td>\n",
              "      <td>7169</td>\n",
              "      <td>Índice geral</td>\n",
              "    </tr>\n",
              "    <tr>\n",
              "      <th>22</th>\n",
              "      <td>1</td>\n",
              "      <td>Brasil</td>\n",
              "      <td>2</td>\n",
              "      <td>%</td>\n",
              "      <td>1.22</td>\n",
              "      <td>1</td>\n",
              "      <td>Brasil</td>\n",
              "      <td>202110</td>\n",
              "      <td>outubro 2021</td>\n",
              "      <td>306</td>\n",
              "      <td>IPCA dessazonalizado - Variação mensal</td>\n",
              "      <td>7169</td>\n",
              "      <td>Índice geral</td>\n",
              "    </tr>\n",
              "    <tr>\n",
              "      <th>23</th>\n",
              "      <td>1</td>\n",
              "      <td>Brasil</td>\n",
              "      <td>2</td>\n",
              "      <td>%</td>\n",
              "      <td>0.87</td>\n",
              "      <td>1</td>\n",
              "      <td>Brasil</td>\n",
              "      <td>202111</td>\n",
              "      <td>novembro 2021</td>\n",
              "      <td>306</td>\n",
              "      <td>IPCA dessazonalizado - Variação mensal</td>\n",
              "      <td>7169</td>\n",
              "      <td>Índice geral</td>\n",
              "    </tr>\n",
              "    <tr>\n",
              "      <th>24</th>\n",
              "      <td>1</td>\n",
              "      <td>Brasil</td>\n",
              "      <td>2</td>\n",
              "      <td>%</td>\n",
              "      <td>0.64</td>\n",
              "      <td>1</td>\n",
              "      <td>Brasil</td>\n",
              "      <td>202112</td>\n",
              "      <td>dezembro 2021</td>\n",
              "      <td>306</td>\n",
              "      <td>IPCA dessazonalizado - Variação mensal</td>\n",
              "      <td>7169</td>\n",
              "      <td>Índice geral</td>\n",
              "    </tr>\n",
              "    <tr>\n",
              "      <th>25</th>\n",
              "      <td>1</td>\n",
              "      <td>Brasil</td>\n",
              "      <td>2</td>\n",
              "      <td>%</td>\n",
              "      <td>0.47</td>\n",
              "      <td>1</td>\n",
              "      <td>Brasil</td>\n",
              "      <td>202201</td>\n",
              "      <td>janeiro 2022</td>\n",
              "      <td>306</td>\n",
              "      <td>IPCA dessazonalizado - Variação mensal</td>\n",
              "      <td>7169</td>\n",
              "      <td>Índice geral</td>\n",
              "    </tr>\n",
              "    <tr>\n",
              "      <th>26</th>\n",
              "      <td>1</td>\n",
              "      <td>Brasil</td>\n",
              "      <td>2</td>\n",
              "      <td>%</td>\n",
              "      <td>1.02</td>\n",
              "      <td>1</td>\n",
              "      <td>Brasil</td>\n",
              "      <td>202202</td>\n",
              "      <td>fevereiro 2022</td>\n",
              "      <td>306</td>\n",
              "      <td>IPCA dessazonalizado - Variação mensal</td>\n",
              "      <td>7169</td>\n",
              "      <td>Índice geral</td>\n",
              "    </tr>\n",
              "    <tr>\n",
              "      <th>27</th>\n",
              "      <td>1</td>\n",
              "      <td>Brasil</td>\n",
              "      <td>2</td>\n",
              "      <td>%</td>\n",
              "      <td>1.54</td>\n",
              "      <td>1</td>\n",
              "      <td>Brasil</td>\n",
              "      <td>202203</td>\n",
              "      <td>março 2022</td>\n",
              "      <td>306</td>\n",
              "      <td>IPCA dessazonalizado - Variação mensal</td>\n",
              "      <td>7169</td>\n",
              "      <td>Índice geral</td>\n",
              "    </tr>\n",
              "    <tr>\n",
              "      <th>28</th>\n",
              "      <td>1</td>\n",
              "      <td>Brasil</td>\n",
              "      <td>2</td>\n",
              "      <td>%</td>\n",
              "      <td>1.03</td>\n",
              "      <td>1</td>\n",
              "      <td>Brasil</td>\n",
              "      <td>202204</td>\n",
              "      <td>abril 2022</td>\n",
              "      <td>306</td>\n",
              "      <td>IPCA dessazonalizado - Variação mensal</td>\n",
              "      <td>7169</td>\n",
              "      <td>Índice geral</td>\n",
              "    </tr>\n",
              "    <tr>\n",
              "      <th>29</th>\n",
              "      <td>1</td>\n",
              "      <td>Brasil</td>\n",
              "      <td>2</td>\n",
              "      <td>%</td>\n",
              "      <td>0.52</td>\n",
              "      <td>1</td>\n",
              "      <td>Brasil</td>\n",
              "      <td>202205</td>\n",
              "      <td>maio 2022</td>\n",
              "      <td>306</td>\n",
              "      <td>IPCA dessazonalizado - Variação mensal</td>\n",
              "      <td>7169</td>\n",
              "      <td>Índice geral</td>\n",
              "    </tr>\n",
              "    <tr>\n",
              "      <th>30</th>\n",
              "      <td>1</td>\n",
              "      <td>Brasil</td>\n",
              "      <td>2</td>\n",
              "      <td>%</td>\n",
              "      <td>0.73</td>\n",
              "      <td>1</td>\n",
              "      <td>Brasil</td>\n",
              "      <td>202206</td>\n",
              "      <td>junho 2022</td>\n",
              "      <td>306</td>\n",
              "      <td>IPCA dessazonalizado - Variação mensal</td>\n",
              "      <td>7169</td>\n",
              "      <td>Índice geral</td>\n",
              "    </tr>\n",
              "    <tr>\n",
              "      <th>31</th>\n",
              "      <td>1</td>\n",
              "      <td>Brasil</td>\n",
              "      <td>2</td>\n",
              "      <td>%</td>\n",
              "      <td>-0.61</td>\n",
              "      <td>1</td>\n",
              "      <td>Brasil</td>\n",
              "      <td>202207</td>\n",
              "      <td>julho 2022</td>\n",
              "      <td>306</td>\n",
              "      <td>IPCA dessazonalizado - Variação mensal</td>\n",
              "      <td>7169</td>\n",
              "      <td>Índice geral</td>\n",
              "    </tr>\n",
              "    <tr>\n",
              "      <th>32</th>\n",
              "      <td>1</td>\n",
              "      <td>Brasil</td>\n",
              "      <td>2</td>\n",
              "      <td>%</td>\n",
              "      <td>-0.30</td>\n",
              "      <td>1</td>\n",
              "      <td>Brasil</td>\n",
              "      <td>202208</td>\n",
              "      <td>agosto 2022</td>\n",
              "      <td>306</td>\n",
              "      <td>IPCA dessazonalizado - Variação mensal</td>\n",
              "      <td>7169</td>\n",
              "      <td>Índice geral</td>\n",
              "    </tr>\n",
              "    <tr>\n",
              "      <th>33</th>\n",
              "      <td>1</td>\n",
              "      <td>Brasil</td>\n",
              "      <td>2</td>\n",
              "      <td>%</td>\n",
              "      <td>-0.23</td>\n",
              "      <td>1</td>\n",
              "      <td>Brasil</td>\n",
              "      <td>202209</td>\n",
              "      <td>setembro 2022</td>\n",
              "      <td>306</td>\n",
              "      <td>IPCA dessazonalizado - Variação mensal</td>\n",
              "      <td>7169</td>\n",
              "      <td>Índice geral</td>\n",
              "    </tr>\n",
              "    <tr>\n",
              "      <th>34</th>\n",
              "      <td>1</td>\n",
              "      <td>Brasil</td>\n",
              "      <td>2</td>\n",
              "      <td>%</td>\n",
              "      <td>0.59</td>\n",
              "      <td>1</td>\n",
              "      <td>Brasil</td>\n",
              "      <td>202210</td>\n",
              "      <td>outubro 2022</td>\n",
              "      <td>306</td>\n",
              "      <td>IPCA dessazonalizado - Variação mensal</td>\n",
              "      <td>7169</td>\n",
              "      <td>Índice geral</td>\n",
              "    </tr>\n",
              "    <tr>\n",
              "      <th>35</th>\n",
              "      <td>1</td>\n",
              "      <td>Brasil</td>\n",
              "      <td>2</td>\n",
              "      <td>%</td>\n",
              "      <td>0.36</td>\n",
              "      <td>1</td>\n",
              "      <td>Brasil</td>\n",
              "      <td>202211</td>\n",
              "      <td>novembro 2022</td>\n",
              "      <td>306</td>\n",
              "      <td>IPCA dessazonalizado - Variação mensal</td>\n",
              "      <td>7169</td>\n",
              "      <td>Índice geral</td>\n",
              "    </tr>\n",
              "    <tr>\n",
              "      <th>36</th>\n",
              "      <td>1</td>\n",
              "      <td>Brasil</td>\n",
              "      <td>2</td>\n",
              "      <td>%</td>\n",
              "      <td>0.53</td>\n",
              "      <td>1</td>\n",
              "      <td>Brasil</td>\n",
              "      <td>202212</td>\n",
              "      <td>dezembro 2022</td>\n",
              "      <td>306</td>\n",
              "      <td>IPCA dessazonalizado - Variação mensal</td>\n",
              "      <td>7169</td>\n",
              "      <td>Índice geral</td>\n",
              "    </tr>\n",
              "    <tr>\n",
              "      <th>37</th>\n",
              "      <td>1</td>\n",
              "      <td>Brasil</td>\n",
              "      <td>2</td>\n",
              "      <td>%</td>\n",
              "      <td>0.44</td>\n",
              "      <td>1</td>\n",
              "      <td>Brasil</td>\n",
              "      <td>202301</td>\n",
              "      <td>janeiro 2023</td>\n",
              "      <td>306</td>\n",
              "      <td>IPCA dessazonalizado - Variação mensal</td>\n",
              "      <td>7169</td>\n",
              "      <td>Índice geral</td>\n",
              "    </tr>\n",
              "    <tr>\n",
              "      <th>38</th>\n",
              "      <td>1</td>\n",
              "      <td>Brasil</td>\n",
              "      <td>2</td>\n",
              "      <td>%</td>\n",
              "      <td>0.85</td>\n",
              "      <td>1</td>\n",
              "      <td>Brasil</td>\n",
              "      <td>202302</td>\n",
              "      <td>fevereiro 2023</td>\n",
              "      <td>306</td>\n",
              "      <td>IPCA dessazonalizado - Variação mensal</td>\n",
              "      <td>7169</td>\n",
              "      <td>Índice geral</td>\n",
              "    </tr>\n",
              "    <tr>\n",
              "      <th>39</th>\n",
              "      <td>1</td>\n",
              "      <td>Brasil</td>\n",
              "      <td>2</td>\n",
              "      <td>%</td>\n",
              "      <td>0.64</td>\n",
              "      <td>1</td>\n",
              "      <td>Brasil</td>\n",
              "      <td>202303</td>\n",
              "      <td>março 2023</td>\n",
              "      <td>306</td>\n",
              "      <td>IPCA dessazonalizado - Variação mensal</td>\n",
              "      <td>7169</td>\n",
              "      <td>Índice geral</td>\n",
              "    </tr>\n",
              "    <tr>\n",
              "      <th>40</th>\n",
              "      <td>1</td>\n",
              "      <td>Brasil</td>\n",
              "      <td>2</td>\n",
              "      <td>%</td>\n",
              "      <td>0.58</td>\n",
              "      <td>1</td>\n",
              "      <td>Brasil</td>\n",
              "      <td>202304</td>\n",
              "      <td>abril 2023</td>\n",
              "      <td>306</td>\n",
              "      <td>IPCA dessazonalizado - Variação mensal</td>\n",
              "      <td>7169</td>\n",
              "      <td>Índice geral</td>\n",
              "    </tr>\n",
              "    <tr>\n",
              "      <th>41</th>\n",
              "      <td>1</td>\n",
              "      <td>Brasil</td>\n",
              "      <td>2</td>\n",
              "      <td>%</td>\n",
              "      <td>0.28</td>\n",
              "      <td>1</td>\n",
              "      <td>Brasil</td>\n",
              "      <td>202305</td>\n",
              "      <td>maio 2023</td>\n",
              "      <td>306</td>\n",
              "      <td>IPCA dessazonalizado - Variação mensal</td>\n",
              "      <td>7169</td>\n",
              "      <td>Índice geral</td>\n",
              "    </tr>\n",
              "    <tr>\n",
              "      <th>42</th>\n",
              "      <td>1</td>\n",
              "      <td>Brasil</td>\n",
              "      <td>2</td>\n",
              "      <td>%</td>\n",
              "      <td>-0.02</td>\n",
              "      <td>1</td>\n",
              "      <td>Brasil</td>\n",
              "      <td>202306</td>\n",
              "      <td>junho 2023</td>\n",
              "      <td>306</td>\n",
              "      <td>IPCA dessazonalizado - Variação mensal</td>\n",
              "      <td>7169</td>\n",
              "      <td>Índice geral</td>\n",
              "    </tr>\n",
              "    <tr>\n",
              "      <th>43</th>\n",
              "      <td>1</td>\n",
              "      <td>Brasil</td>\n",
              "      <td>2</td>\n",
              "      <td>%</td>\n",
              "      <td>0.19</td>\n",
              "      <td>1</td>\n",
              "      <td>Brasil</td>\n",
              "      <td>202307</td>\n",
              "      <td>julho 2023</td>\n",
              "      <td>306</td>\n",
              "      <td>IPCA dessazonalizado - Variação mensal</td>\n",
              "      <td>7169</td>\n",
              "      <td>Índice geral</td>\n",
              "    </tr>\n",
              "    <tr>\n",
              "      <th>44</th>\n",
              "      <td>1</td>\n",
              "      <td>Brasil</td>\n",
              "      <td>2</td>\n",
              "      <td>%</td>\n",
              "      <td>0.30</td>\n",
              "      <td>1</td>\n",
              "      <td>Brasil</td>\n",
              "      <td>202308</td>\n",
              "      <td>agosto 2023</td>\n",
              "      <td>306</td>\n",
              "      <td>IPCA dessazonalizado - Variação mensal</td>\n",
              "      <td>7169</td>\n",
              "      <td>Índice geral</td>\n",
              "    </tr>\n",
              "  </tbody>\n",
              "</table>\n",
              "</div>\n",
              "    <div class=\"colab-df-buttons\">\n",
              "\n",
              "  <div class=\"colab-df-container\">\n",
              "    <button class=\"colab-df-convert\" onclick=\"convertToInteractive('df-d54990b3-6d7b-4fa3-a1f7-7caf44bb7285')\"\n",
              "            title=\"Convert this dataframe to an interactive table.\"\n",
              "            style=\"display:none;\">\n",
              "\n",
              "  <svg xmlns=\"http://www.w3.org/2000/svg\" height=\"24px\" viewBox=\"0 -960 960 960\">\n",
              "    <path d=\"M120-120v-720h720v720H120Zm60-500h600v-160H180v160Zm220 220h160v-160H400v160Zm0 220h160v-160H400v160ZM180-400h160v-160H180v160Zm440 0h160v-160H620v160ZM180-180h160v-160H180v160Zm440 0h160v-160H620v160Z\"/>\n",
              "  </svg>\n",
              "    </button>\n",
              "\n",
              "  <style>\n",
              "    .colab-df-container {\n",
              "      display:flex;\n",
              "      gap: 12px;\n",
              "    }\n",
              "\n",
              "    .colab-df-convert {\n",
              "      background-color: #E8F0FE;\n",
              "      border: none;\n",
              "      border-radius: 50%;\n",
              "      cursor: pointer;\n",
              "      display: none;\n",
              "      fill: #1967D2;\n",
              "      height: 32px;\n",
              "      padding: 0 0 0 0;\n",
              "      width: 32px;\n",
              "    }\n",
              "\n",
              "    .colab-df-convert:hover {\n",
              "      background-color: #E2EBFA;\n",
              "      box-shadow: 0px 1px 2px rgba(60, 64, 67, 0.3), 0px 1px 3px 1px rgba(60, 64, 67, 0.15);\n",
              "      fill: #174EA6;\n",
              "    }\n",
              "\n",
              "    .colab-df-buttons div {\n",
              "      margin-bottom: 4px;\n",
              "    }\n",
              "\n",
              "    [theme=dark] .colab-df-convert {\n",
              "      background-color: #3B4455;\n",
              "      fill: #D2E3FC;\n",
              "    }\n",
              "\n",
              "    [theme=dark] .colab-df-convert:hover {\n",
              "      background-color: #434B5C;\n",
              "      box-shadow: 0px 1px 3px 1px rgba(0, 0, 0, 0.15);\n",
              "      filter: drop-shadow(0px 1px 2px rgba(0, 0, 0, 0.3));\n",
              "      fill: #FFFFFF;\n",
              "    }\n",
              "  </style>\n",
              "\n",
              "    <script>\n",
              "      const buttonEl =\n",
              "        document.querySelector('#df-d54990b3-6d7b-4fa3-a1f7-7caf44bb7285 button.colab-df-convert');\n",
              "      buttonEl.style.display =\n",
              "        google.colab.kernel.accessAllowed ? 'block' : 'none';\n",
              "\n",
              "      async function convertToInteractive(key) {\n",
              "        const element = document.querySelector('#df-d54990b3-6d7b-4fa3-a1f7-7caf44bb7285');\n",
              "        const dataTable =\n",
              "          await google.colab.kernel.invokeFunction('convertToInteractive',\n",
              "                                                    [key], {});\n",
              "        if (!dataTable) return;\n",
              "\n",
              "        const docLinkHtml = 'Like what you see? Visit the ' +\n",
              "          '<a target=\"_blank\" href=https://colab.research.google.com/notebooks/data_table.ipynb>data table notebook</a>'\n",
              "          + ' to learn more about interactive tables.';\n",
              "        element.innerHTML = '';\n",
              "        dataTable['output_type'] = 'display_data';\n",
              "        await google.colab.output.renderOutput(dataTable, element);\n",
              "        const docLink = document.createElement('div');\n",
              "        docLink.innerHTML = docLinkHtml;\n",
              "        element.appendChild(docLink);\n",
              "      }\n",
              "    </script>\n",
              "  </div>\n",
              "\n",
              "\n",
              "<div id=\"df-c96f9ae6-1a42-4f9d-8dcd-7322fb6f4de6\">\n",
              "  <button class=\"colab-df-quickchart\" onclick=\"quickchart('df-c96f9ae6-1a42-4f9d-8dcd-7322fb6f4de6')\"\n",
              "            title=\"Suggest charts.\"\n",
              "            style=\"display:none;\">\n",
              "\n",
              "<svg xmlns=\"http://www.w3.org/2000/svg\" height=\"24px\"viewBox=\"0 0 24 24\"\n",
              "     width=\"24px\">\n",
              "    <g>\n",
              "        <path d=\"M19 3H5c-1.1 0-2 .9-2 2v14c0 1.1.9 2 2 2h14c1.1 0 2-.9 2-2V5c0-1.1-.9-2-2-2zM9 17H7v-7h2v7zm4 0h-2V7h2v10zm4 0h-2v-4h2v4z\"/>\n",
              "    </g>\n",
              "</svg>\n",
              "  </button>\n",
              "\n",
              "<style>\n",
              "  .colab-df-quickchart {\n",
              "      --bg-color: #E8F0FE;\n",
              "      --fill-color: #1967D2;\n",
              "      --hover-bg-color: #E2EBFA;\n",
              "      --hover-fill-color: #174EA6;\n",
              "      --disabled-fill-color: #AAA;\n",
              "      --disabled-bg-color: #DDD;\n",
              "  }\n",
              "\n",
              "  [theme=dark] .colab-df-quickchart {\n",
              "      --bg-color: #3B4455;\n",
              "      --fill-color: #D2E3FC;\n",
              "      --hover-bg-color: #434B5C;\n",
              "      --hover-fill-color: #FFFFFF;\n",
              "      --disabled-bg-color: #3B4455;\n",
              "      --disabled-fill-color: #666;\n",
              "  }\n",
              "\n",
              "  .colab-df-quickchart {\n",
              "    background-color: var(--bg-color);\n",
              "    border: none;\n",
              "    border-radius: 50%;\n",
              "    cursor: pointer;\n",
              "    display: none;\n",
              "    fill: var(--fill-color);\n",
              "    height: 32px;\n",
              "    padding: 0;\n",
              "    width: 32px;\n",
              "  }\n",
              "\n",
              "  .colab-df-quickchart:hover {\n",
              "    background-color: var(--hover-bg-color);\n",
              "    box-shadow: 0 1px 2px rgba(60, 64, 67, 0.3), 0 1px 3px 1px rgba(60, 64, 67, 0.15);\n",
              "    fill: var(--button-hover-fill-color);\n",
              "  }\n",
              "\n",
              "  .colab-df-quickchart-complete:disabled,\n",
              "  .colab-df-quickchart-complete:disabled:hover {\n",
              "    background-color: var(--disabled-bg-color);\n",
              "    fill: var(--disabled-fill-color);\n",
              "    box-shadow: none;\n",
              "  }\n",
              "\n",
              "  .colab-df-spinner {\n",
              "    border: 2px solid var(--fill-color);\n",
              "    border-color: transparent;\n",
              "    border-bottom-color: var(--fill-color);\n",
              "    animation:\n",
              "      spin 1s steps(1) infinite;\n",
              "  }\n",
              "\n",
              "  @keyframes spin {\n",
              "    0% {\n",
              "      border-color: transparent;\n",
              "      border-bottom-color: var(--fill-color);\n",
              "      border-left-color: var(--fill-color);\n",
              "    }\n",
              "    20% {\n",
              "      border-color: transparent;\n",
              "      border-left-color: var(--fill-color);\n",
              "      border-top-color: var(--fill-color);\n",
              "    }\n",
              "    30% {\n",
              "      border-color: transparent;\n",
              "      border-left-color: var(--fill-color);\n",
              "      border-top-color: var(--fill-color);\n",
              "      border-right-color: var(--fill-color);\n",
              "    }\n",
              "    40% {\n",
              "      border-color: transparent;\n",
              "      border-right-color: var(--fill-color);\n",
              "      border-top-color: var(--fill-color);\n",
              "    }\n",
              "    60% {\n",
              "      border-color: transparent;\n",
              "      border-right-color: var(--fill-color);\n",
              "    }\n",
              "    80% {\n",
              "      border-color: transparent;\n",
              "      border-right-color: var(--fill-color);\n",
              "      border-bottom-color: var(--fill-color);\n",
              "    }\n",
              "    90% {\n",
              "      border-color: transparent;\n",
              "      border-bottom-color: var(--fill-color);\n",
              "    }\n",
              "  }\n",
              "</style>\n",
              "\n",
              "  <script>\n",
              "    async function quickchart(key) {\n",
              "      const quickchartButtonEl =\n",
              "        document.querySelector('#' + key + ' button');\n",
              "      quickchartButtonEl.disabled = true;  // To prevent multiple clicks.\n",
              "      quickchartButtonEl.classList.add('colab-df-spinner');\n",
              "      try {\n",
              "        const charts = await google.colab.kernel.invokeFunction(\n",
              "            'suggestCharts', [key], {});\n",
              "      } catch (error) {\n",
              "        console.error('Error during call to suggestCharts:', error);\n",
              "      }\n",
              "      quickchartButtonEl.classList.remove('colab-df-spinner');\n",
              "      quickchartButtonEl.classList.add('colab-df-quickchart-complete');\n",
              "    }\n",
              "    (() => {\n",
              "      let quickchartButtonEl =\n",
              "        document.querySelector('#df-c96f9ae6-1a42-4f9d-8dcd-7322fb6f4de6 button');\n",
              "      quickchartButtonEl.style.display =\n",
              "        google.colab.kernel.accessAllowed ? 'block' : 'none';\n",
              "    })();\n",
              "  </script>\n",
              "</div>\n",
              "    </div>\n",
              "  </div>\n"
            ]
          },
          "metadata": {},
          "execution_count": 25
        }
      ]
    },
    {
      "cell_type": "markdown",
      "source": [
        "#### Os documentos do pacote Sidrapay estão no site sidrapay.ibge.gov.br"
      ],
      "metadata": {
        "id": "Tc766MQKQ6BW"
      }
    }
  ]
}