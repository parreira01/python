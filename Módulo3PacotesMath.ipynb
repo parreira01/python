{
  "nbformat": 4,
  "nbformat_minor": 0,
  "metadata": {
    "colab": {
      "provenance": [],
      "authorship_tag": "ABX9TyNItIjBS2SUC+b57VgxfbfL",
      "include_colab_link": true
    },
    "kernelspec": {
      "name": "python3",
      "display_name": "Python 3"
    },
    "language_info": {
      "name": "python"
    }
  },
  "cells": [
    {
      "cell_type": "markdown",
      "metadata": {
        "id": "view-in-github",
        "colab_type": "text"
      },
      "source": [
        "<a href=\"https://colab.research.google.com/github/parreira01/python/blob/master/M%C3%B3dulo3PacotesMath.ipynb\" target=\"_parent\"><img src=\"https://colab.research.google.com/assets/colab-badge.svg\" alt=\"Open In Colab\"/></a>"
      ]
    },
    {
      "cell_type": "markdown",
      "source": [
        "## Aula 22 - Pacotes Math - Constantes"
      ],
      "metadata": {
        "id": "jxq0h9cFfNaY"
      }
    },
    {
      "cell_type": "code",
      "execution_count": null,
      "metadata": {
        "id": "_C6mei-je6D9"
      },
      "outputs": [],
      "source": [
        "import math as mt"
      ]
    },
    {
      "cell_type": "code",
      "source": [
        "mt.pi"
      ],
      "metadata": {
        "colab": {
          "base_uri": "https://localhost:8080/"
        },
        "id": "UEvfYhlhgHP3",
        "outputId": "a48ecdd5-7053-47ef-887e-5967b4dffb49"
      },
      "execution_count": null,
      "outputs": [
        {
          "output_type": "execute_result",
          "data": {
            "text/plain": [
              "3.141592653589793"
            ]
          },
          "metadata": {},
          "execution_count": 2
        }
      ]
    },
    {
      "cell_type": "code",
      "source": [
        "mt.e # 'e' símbolo do número neperiano."
      ],
      "metadata": {
        "colab": {
          "base_uri": "https://localhost:8080/"
        },
        "id": "5rNjZtw-gSHu",
        "outputId": "2781183d-c2f7-48dc-fc61-9dcba9100cc3"
      },
      "execution_count": null,
      "outputs": [
        {
          "output_type": "execute_result",
          "data": {
            "text/plain": [
              "2.718281828459045"
            ]
          },
          "metadata": {},
          "execution_count": 3
        }
      ]
    },
    {
      "cell_type": "code",
      "source": [
        "numero_pi = mt.pi\n",
        "mt.floor (numero_pi) # o floor faz o arredondamento de dizimas para baixo."
      ],
      "metadata": {
        "colab": {
          "base_uri": "https://localhost:8080/"
        },
        "id": "sj2MdQPzgl13",
        "outputId": "fb82f1f7-3465-478a-c165-0a4f554bcc48"
      },
      "execution_count": null,
      "outputs": [
        {
          "output_type": "execute_result",
          "data": {
            "text/plain": [
              "3"
            ]
          },
          "metadata": {},
          "execution_count": 4
        }
      ]
    },
    {
      "cell_type": "code",
      "source": [
        "print('O valor do número pi arredondado para baixo é {} '.format(mt.floor (numero_pi)))"
      ],
      "metadata": {
        "colab": {
          "base_uri": "https://localhost:8080/"
        },
        "id": "gyptG0ozhXMn",
        "outputId": "4e0b50f5-4ba8-4833-c09c-e5d92f05b675"
      },
      "execution_count": null,
      "outputs": [
        {
          "output_type": "stream",
          "name": "stdout",
          "text": [
            "O valor do número pi arredondado para baixo é 3 \n"
          ]
        }
      ]
    },
    {
      "cell_type": "code",
      "source": [
        "mt.ceil(numero_pi) # faz o arredondamento de dizimas para cima."
      ],
      "metadata": {
        "colab": {
          "base_uri": "https://localhost:8080/"
        },
        "id": "HBWiqrjdizxH",
        "outputId": "4347c979-46ad-47ae-dc36-37a34a4e3fc4"
      },
      "execution_count": null,
      "outputs": [
        {
          "output_type": "execute_result",
          "data": {
            "text/plain": [
              "4"
            ]
          },
          "metadata": {},
          "execution_count": 10
        }
      ]
    },
    {
      "cell_type": "code",
      "source": [
        "# round é uma funçãoo do python em não do pacote math, ela dá a possibilidade de definir a quantidade de casas decimais que aparecerão.\n",
        "round(numero_pi, 4)"
      ],
      "metadata": {
        "colab": {
          "base_uri": "https://localhost:8080/"
        },
        "id": "3I-lBCCwjONm",
        "outputId": "8aa0410c-ca8a-4693-9b91-68b34f7202c8"
      },
      "execution_count": null,
      "outputs": [
        {
          "output_type": "execute_result",
          "data": {
            "text/plain": [
              "3.1416"
            ]
          },
          "metadata": {},
          "execution_count": 11
        }
      ]
    },
    {
      "cell_type": "markdown",
      "source": [
        "___\n",
        "## Vídeo 23: Outros pacotes do Python: Math - Raiz quadrada, log.\n"
      ],
      "metadata": {
        "id": "3cjONioXj3to"
      }
    },
    {
      "cell_type": "code",
      "source": [
        "valor = 36\n",
        "print('A raiz quadrada de {} é {}'.format(valor,mt.sqrt(valor)))"
      ],
      "metadata": {
        "colab": {
          "base_uri": "https://localhost:8080/"
        },
        "id": "MIPcpLehj_wH",
        "outputId": "f71094f5-2ce3-4592-b67a-790b12f4f995"
      },
      "execution_count": null,
      "outputs": [
        {
          "output_type": "stream",
          "name": "stdout",
          "text": [
            "A raiz quadrada de 36 é 6.0\n"
          ]
        }
      ]
    },
    {
      "cell_type": "code",
      "source": [
        "mt.sqrt(144)"
      ],
      "metadata": {
        "colab": {
          "base_uri": "https://localhost:8080/"
        },
        "id": "VvmL1-O6kote",
        "outputId": "5a948030-53dd-42a8-92f5-5922da33954d"
      },
      "execution_count": null,
      "outputs": [
        {
          "output_type": "execute_result",
          "data": {
            "text/plain": [
              "12.0"
            ]
          },
          "metadata": {},
          "execution_count": 14
        }
      ]
    },
    {
      "cell_type": "code",
      "source": [
        "valor = 180 # quando ao objeto 'valor' é atribuído um novo número, esse vai sobrepor o número anterior.\n",
        "print('O logaritmo de {} é {}'.format(valor,mt.log(valor)))"
      ],
      "metadata": {
        "colab": {
          "base_uri": "https://localhost:8080/"
        },
        "id": "jtxDCgs2kvD1",
        "outputId": "52e00b7b-2411-4edf-cf63-b68c39314cdc"
      },
      "execution_count": null,
      "outputs": [
        {
          "output_type": "stream",
          "name": "stdout",
          "text": [
            "O logaritmo de 180 é 5.19295685089021\n"
          ]
        }
      ]
    },
    {
      "cell_type": "code",
      "source": [
        "valor = 180\n",
        "print('O logaritmo de {} é {}'.format(valor,mt.log10(valor))) # log na base 10"
      ],
      "metadata": {
        "colab": {
          "base_uri": "https://localhost:8080/"
        },
        "id": "09lc2uSEmWI9",
        "outputId": "14373e76-5444-4cd5-f664-f9c32feb8677"
      },
      "execution_count": null,
      "outputs": [
        {
          "output_type": "stream",
          "name": "stdout",
          "text": [
            "O logaritmo de 180 é 2.255272505103306\n"
          ]
        }
      ]
    },
    {
      "cell_type": "code",
      "source": [
        "# o atriburo 'pow' serve para potencialização de valor e de acordo aom a documentação math ele é mais preciso do que utilizar os **.\n",
        "valor_a= 25\n",
        "valor_b= 10\n",
        "mt.pow(valor_a, valor_b)\n"
      ],
      "metadata": {
        "colab": {
          "base_uri": "https://localhost:8080/"
        },
        "id": "ANAYunGrmu0u",
        "outputId": "20827d20-dd12-4c39-e107-bd26d7fab710"
      },
      "execution_count": null,
      "outputs": [
        {
          "output_type": "execute_result",
          "data": {
            "text/plain": [
              "95367431640625.0"
            ]
          },
          "metadata": {},
          "execution_count": 18
        }
      ]
    },
    {
      "cell_type": "code",
      "source": [
        "valor_a** valor_b"
      ],
      "metadata": {
        "colab": {
          "base_uri": "https://localhost:8080/"
        },
        "id": "DOj1G1eQnQ88",
        "outputId": "cc9e7b02-6ba2-4185-fc3b-5c37668aae64"
      },
      "execution_count": null,
      "outputs": [
        {
          "output_type": "execute_result",
          "data": {
            "text/plain": [
              "95367431640625"
            ]
          },
          "metadata": {},
          "execution_count": 20
        }
      ]
    }
  ]
}